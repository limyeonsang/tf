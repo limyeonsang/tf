{
 "cells": [
  {
   "cell_type": "code",
   "execution_count": 1,
   "metadata": {},
   "outputs": [],
   "source": [
    "import numpy as np\n",
    "import tensorflow as tf\n",
    "\n",
    "from tensorflow.keras.datasets import cifar10\n",
    "from tensorflow.keras.models import Sequential\n",
    "from tensorflow.keras.layers import Conv2D, MaxPooling2D, Flatten, Dense, Dropout\n",
    "from tensorflow.keras.optimizers import Adam\n",
    "from tensorflow.keras.preprocessing.image import ImageDataGenerator"
   ]
  },
  {
   "cell_type": "code",
   "execution_count": 5,
   "metadata": {},
   "outputs": [],
   "source": [
    "import ssl\n",
    "ssl._create_default_https_context = ssl._create_unverified_context"
   ]
  },
  {
   "cell_type": "code",
   "execution_count": 6,
   "metadata": {},
   "outputs": [
    {
     "name": "stdout",
     "output_type": "stream",
     "text": [
      "Downloading data from https://www.cs.toronto.edu/~kriz/cifar-10-python.tar.gz\n",
      "170500096/170498071 [==============================] - 231s 1us/step\n",
      "170508288/170498071 [==============================] - 231s 1us/step\n",
      "(50000, 32, 32, 3) (10000, 32, 32, 3) (50000, 1) (10000, 1)\n"
     ]
    }
   ],
   "source": [
    "(X_train, y_train), (X_test, y_test) = cifar10.load_data()\n",
    "\n",
    "X_train = X_train.astype(np.float32) / 255.0\n",
    "X_test = X_test.astype(np.float32) / 255.0\n",
    "\n",
    "print(X_train.shape, X_test.shape, y_train.shape, y_test.shape)"
   ]
  },
  {
   "cell_type": "code",
   "execution_count": 12,
   "metadata": {},
   "outputs": [],
   "source": [
    "gen = ImageDataGenerator(rotation_range=20, shear_range=0.2, width_shift_range=0.2, \n",
    "                        height_shift_range=0.2, horizontal_flip=True)\n",
    "\n",
    "augment_ratio = 1.5\n",
    "augment_size = int(augment_ratio * X_train.shape[0])\n",
    "\n",
    "randidx = np.random.randint(X_train.shape[0], size=augment_size)\n",
    "\n",
    "X_augmented = X_train[randidx].copy()\n",
    "y_augmented = y_train[randidx].copy()\n",
    "\n",
    "X_augmented, y_augmented = gen.flow(X_augmented, y_augmented, batch_size=augment_size, shuffle=False).next()\n",
    "\n",
    "X_train = np.concatenate( (X_train, X_augmented) )\n",
    "y_train = np.concatenate( (y_train, y_augmented) )\n",
    "\n",
    "s = np.arange(X_train.shape[0])\n",
    "np.random.shuffle(s)\n",
    "\n",
    "X_train = X_train[s]\n",
    "y_train = y_train[s]"
   ]
  },
  {
   "cell_type": "code",
   "execution_count": null,
   "metadata": {},
   "outputs": [],
   "source": [
    "cnn = Sequential()\n",
    "\n",
    "cnn.add(Conv2D(32, (3,3), activation='relu', padding='same', input_shape=(32,32,3)))\n"
   ]
  }
 ],
 "metadata": {
  "interpreter": {
   "hash": "762568b60ff02034ad30f76ec13eabb79a0decfbc2d9faa7bfbe9062055c30a3"
  },
  "kernelspec": {
   "display_name": "Python 3.9.6 64-bit ('tf-K1gCNad0': pipenv)",
   "language": "python",
   "name": "python3"
  },
  "language_info": {
   "codemirror_mode": {
    "name": "ipython",
    "version": 3
   },
   "file_extension": ".py",
   "mimetype": "text/x-python",
   "name": "python",
   "nbconvert_exporter": "python",
   "pygments_lexer": "ipython3",
   "version": "3.9.6"
  },
  "orig_nbformat": 4
 },
 "nbformat": 4,
 "nbformat_minor": 2
}
