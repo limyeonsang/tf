{
 "cells": [
  {
   "cell_type": "code",
   "execution_count": 1,
   "source": [
    "import tensorflow as tf\r\n",
    "from tensorflow import keras\r\n",
    "from tensorflow.keras import layers"
   ],
   "outputs": [],
   "metadata": {}
  },
  {
   "cell_type": "markdown",
   "source": [
    "Sequential 모델은 각 layer에 정확히 하나의 입력 텐서와 하나의 출력 텐서가 있는 일반 레이어 스택에 적합하다.\r\n",
    "\r\n",
    "반대로 다중 입/출력, 레이어 공유, 비선형 토플로지에 적합하지 않다."
   ],
   "metadata": {}
  },
  {
   "cell_type": "code",
   "execution_count": 2,
   "source": [
    "model = keras.Sequential(\r\n",
    "    [\r\n",
    "        layers.Dense(2, activation=\"relu\", name=\"layer1\"),  #name: TensorBoard에 주석이 달림\r\n",
    "        layers.Dense(3, activation=\"relu\", name=\"layer2\"),\r\n",
    "        layers.Dense(4, name=\"layer3\"),\r\n",
    "    ]\r\n",
    ")\r\n",
    "\r\n",
    "x = tf.ones((3, 3))\r\n",
    "y = model(x)"
   ],
   "outputs": [],
   "metadata": {}
  },
  {
   "cell_type": "code",
   "execution_count": 3,
   "source": [
    "model.layers"
   ],
   "outputs": [
    {
     "output_type": "execute_result",
     "data": {
      "text/plain": [
       "[<tensorflow.python.keras.layers.core.Dense at 0x1e3021af070>,\n",
       " <tensorflow.python.keras.layers.core.Dense at 0x1e300c0f430>,\n",
       " <tensorflow.python.keras.layers.core.Dense at 0x1e3021af160>]"
      ]
     },
     "metadata": {},
     "execution_count": 3
    }
   ],
   "metadata": {}
  },
  {
   "cell_type": "code",
   "execution_count": 4,
   "source": [
    "model.add(layers.Dense(5, name='layer4'))"
   ],
   "outputs": [],
   "metadata": {}
  },
  {
   "cell_type": "code",
   "execution_count": 5,
   "source": [
    "model.layers"
   ],
   "outputs": [
    {
     "output_type": "execute_result",
     "data": {
      "text/plain": [
       "[<tensorflow.python.keras.layers.core.Dense at 0x1e3021af070>,\n",
       " <tensorflow.python.keras.layers.core.Dense at 0x1e300c0f430>,\n",
       " <tensorflow.python.keras.layers.core.Dense at 0x1e3021af160>,\n",
       " <tensorflow.python.keras.layers.core.Dense at 0x1e3030e17f0>]"
      ]
     },
     "metadata": {},
     "execution_count": 5
    }
   ],
   "metadata": {}
  },
  {
   "cell_type": "code",
   "execution_count": 7,
   "source": [
    "model.pop()  # layer 제거\r\n",
    "print(len(model.layers))"
   ],
   "outputs": [
    {
     "output_type": "stream",
     "name": "stdout",
     "text": [
      "2\n"
     ]
    }
   ],
   "metadata": {}
  },
  {
   "cell_type": "markdown",
   "source": [
    "## 입력 형상 미리 지정\r\n",
    "\r\n",
    "모델의 입력 형상을 알고 있다면 일반적으로 입력 형상을 지정하는 것이 좋다. "
   ],
   "metadata": {}
  },
  {
   "cell_type": "code",
   "execution_count": 8,
   "source": [
    "layer = layers.Dense(3)\r\n",
    "layer.weights # layer를 만든 후 처음에는 가중치가 없다. "
   ],
   "outputs": [
    {
     "output_type": "execute_result",
     "data": {
      "text/plain": [
       "[]"
      ]
     },
     "metadata": {},
     "execution_count": 8
    }
   ],
   "metadata": {}
  },
  {
   "cell_type": "markdown",
   "source": [
    "가중치는 모양이 입력의 형상에 따라 달라지므로 입력시 가중치를 만든다. "
   ],
   "metadata": {}
  },
  {
   "cell_type": "code",
   "execution_count": 10,
   "source": [
    "x = tf.ones((1,4))\r\n",
    "y = layer(x)\r\n",
    "layer.weights"
   ],
   "outputs": [
    {
     "output_type": "execute_result",
     "data": {
      "text/plain": [
       "[<tf.Variable 'dense/kernel:0' shape=(4, 3) dtype=float32, numpy=\n",
       " array([[-0.1659652 ,  0.90399826, -0.86901474],\n",
       "        [ 0.27208817, -0.8841056 , -0.06835538],\n",
       "        [-0.22058922,  0.8714391 ,  0.68581605],\n",
       "        [ 0.07343847,  0.04718667, -0.397273  ]], dtype=float32)>,\n",
       " <tf.Variable 'dense/bias:0' shape=(3,) dtype=float32, numpy=array([0., 0., 0.], dtype=float32)>]"
      ]
     },
     "metadata": {},
     "execution_count": 10
    }
   ],
   "metadata": {}
  },
  {
   "cell_type": "code",
   "execution_count": 11,
   "source": [
    "model = keras.Sequential(\r\n",
    "    [\r\n",
    "        layers.Dense(2, activation=\"relu\"),\r\n",
    "        layers.Dense(3, activation=\"relu\"),\r\n",
    "        layers.Dense(4),\r\n",
    "    ]\r\n",
    ")  # No weights at this stage!\r\n",
    "\r\n",
    "x = tf.ones((1, 4))\r\n",
    "y = model(x)\r\n",
    "print(\"Number of weights after calling the model:\", len(model.weights))  "
   ],
   "outputs": [
    {
     "output_type": "stream",
     "name": "stdout",
     "text": [
      "Number of weights after calling the model: 6\n"
     ]
    }
   ],
   "metadata": {}
  },
  {
   "cell_type": "code",
   "execution_count": 12,
   "source": [
    "model.summary()"
   ],
   "outputs": [
    {
     "output_type": "stream",
     "name": "stdout",
     "text": [
      "Model: \"sequential_1\"\n",
      "_________________________________________________________________\n",
      "Layer (type)                 Output Shape              Param #   \n",
      "=================================================================\n",
      "dense_1 (Dense)              (1, 2)                    10        \n",
      "_________________________________________________________________\n",
      "dense_2 (Dense)              (1, 3)                    9         \n",
      "_________________________________________________________________\n",
      "dense_3 (Dense)              (1, 4)                    16        \n",
      "=================================================================\n",
      "Total params: 35\n",
      "Trainable params: 35\n",
      "Non-trainable params: 0\n",
      "_________________________________________________________________\n"
     ]
    }
   ],
   "metadata": {}
  },
  {
   "cell_type": "code",
   "execution_count": 13,
   "source": [
    "model = keras.Sequential()\r\n",
    "model.add(keras.Input(shape=(4,)))\r\n",
    "model.add(layers.Dense(2, activation='relu'))\r\n",
    "\r\n",
    "model.summary()"
   ],
   "outputs": [
    {
     "output_type": "stream",
     "name": "stdout",
     "text": [
      "WARNING:tensorflow:Please add `keras.layers.InputLayer` instead of `keras.Input` to Sequential model. `keras.Input` is intended to be used by Functional model.\n",
      "Model: \"sequential_2\"\n",
      "_________________________________________________________________\n",
      "Layer (type)                 Output Shape              Param #   \n",
      "=================================================================\n",
      "dense_4 (Dense)              (None, 2)                 10        \n",
      "=================================================================\n",
      "Total params: 10\n",
      "Trainable params: 10\n",
      "Non-trainable params: 0\n",
      "_________________________________________________________________\n"
     ]
    }
   ],
   "metadata": {}
  },
  {
   "cell_type": "code",
   "execution_count": 14,
   "source": [
    "model.layers"
   ],
   "outputs": [
    {
     "output_type": "execute_result",
     "data": {
      "text/plain": [
       "[<tensorflow.python.keras.layers.core.Dense at 0x1e30372e670>]"
      ]
     },
     "metadata": {},
     "execution_count": 14
    }
   ],
   "metadata": {}
  },
  {
   "cell_type": "code",
   "execution_count": 16,
   "source": [
    "model = keras.Sequential()\r\n",
    "model.add(layers.Dense(2, activation='relu', input_shape=(4,)))\r\n",
    "\r\n",
    "model.summary()"
   ],
   "outputs": [
    {
     "output_type": "stream",
     "name": "stdout",
     "text": [
      "Model: \"sequential_4\"\n",
      "_________________________________________________________________\n",
      "Layer (type)                 Output Shape              Param #   \n",
      "=================================================================\n",
      "dense_6 (Dense)              (None, 2)                 10        \n",
      "=================================================================\n",
      "Total params: 10\n",
      "Trainable params: 10\n",
      "Non-trainable params: 0\n",
      "_________________________________________________________________\n"
     ]
    }
   ],
   "metadata": {}
  },
  {
   "cell_type": "markdown",
   "source": [
    "## Sequential model을 사용한 특성 추출\r\n",
    "\r\n",
    "Sequential model은 빌드되면 Function API model처럼 동작한다. 이는 모든 layer가 input, output을 갖는다는 것을 의미하는데, 이러한 속성을 사용해서 Sequential 모델 내의 모든 중간 layer들의 출력을 추출하는 모델을 생성할 수 있다. '"
   ],
   "metadata": {}
  },
  {
   "cell_type": "code",
   "execution_count": 17,
   "source": [
    "initial_model = keras.Sequential(\r\n",
    "    [\r\n",
    "        keras.Input(shape=(250, 250, 3)),\r\n",
    "        layers.Conv2D(32, 5, strides=2, activation=\"relu\"),\r\n",
    "        layers.Conv2D(32, 3, activation=\"relu\"),\r\n",
    "        layers.Conv2D(32, 3, activation=\"relu\"),\r\n",
    "    ]\r\n",
    ")\r\n",
    "feature_extractor = keras.Model(\r\n",
    "    inputs=initial_model.inputs,\r\n",
    "    outputs=[layer.output for layer in initial_model.layers],\r\n",
    ")\r\n",
    "\r\n",
    "# Call feature extractor on test input.\r\n",
    "x = tf.ones((1, 250, 250, 3))\r\n",
    "features = feature_extractor(x)"
   ],
   "outputs": [
    {
     "output_type": "stream",
     "name": "stdout",
     "text": [
      "WARNING:tensorflow:Please add `keras.layers.InputLayer` instead of `keras.Input` to Sequential model. `keras.Input` is intended to be used by Functional model.\n"
     ]
    }
   ],
   "metadata": {}
  }
 ],
 "metadata": {
  "orig_nbformat": 4,
  "language_info": {
   "name": "python",
   "version": "3.9.6",
   "mimetype": "text/x-python",
   "codemirror_mode": {
    "name": "ipython",
    "version": 3
   },
   "pygments_lexer": "ipython3",
   "nbconvert_exporter": "python",
   "file_extension": ".py"
  },
  "kernelspec": {
   "name": "python3",
   "display_name": "Python 3.9.6 64-bit ('tf-K1gCNad0': pipenv)"
  },
  "interpreter": {
   "hash": "762568b60ff02034ad30f76ec13eabb79a0decfbc2d9faa7bfbe9062055c30a3"
  }
 },
 "nbformat": 4,
 "nbformat_minor": 2
}