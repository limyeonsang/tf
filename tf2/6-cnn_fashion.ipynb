{
 "cells": [
  {
   "cell_type": "markdown",
   "metadata": {},
   "source": [
    "![](./resource/cnn.png)"
   ]
  },
  {
   "cell_type": "markdown",
   "metadata": {},
   "source": [
    "## Feature Extractor\n",
    "\n",
    "Conv\n",
    "```python\n",
    "Conv2D(input_shape=(n,n,n), kernel_size=(3,3), filters=32) # 1st layer로 Conv2D가 쓰일 때(inpuut_shape)\n",
    "# kernel_size: 필터 크기, filters: 필터 개수, default: strides=(1,1), activation='relu'\n",
    "```\n",
    "\n",
    "max pooling\n",
    "```python\n",
    "MaxPool2D(pool_size=(2,2), paddding='valid'))\n",
    "# pool_size: 2행2열의 사각형에서 maxpooling을 수행\n",
    "```"
   ]
  },
  {
   "cell_type": "markdown",
   "metadata": {},
   "source": [
    "## Classifier\n",
    "\n",
    "Flatten(): Feature Extractor의 출력인 3차원 tensor(높이, 넓이, 채널)와 완전연결층(Dense)의 연결을 위해 수행   \n",
    "Dense(): 출력층에서는 activation='softmax'를 사용  \n",
    "Dropout(rate=0.2): rate의 비율만큼 랜덤하게 층과 층 사이의 연결을 끊어 네트워크의 과적합을 막는 역할을 수행"
   ]
  },
  {
   "cell_type": "code",
   "execution_count": 10,
   "metadata": {},
   "outputs": [],
   "source": [
    "import numpy as np\n",
    "from tensorflow.keras.datasets import fashion_mnist\n",
    "from tensorflow.keras.models import Sequential\n",
    "from tensorflow.keras.layers import Conv2D, MaxPool2D, Flatten, Dense, Dropout\n",
    "from tensorflow.keras.optimizers import Adam"
   ]
  },
  {
   "cell_type": "code",
   "execution_count": 11,
   "metadata": {},
   "outputs": [],
   "source": [
    "(X_train, y_train), (X_test, y_test) = fashion_mnist.load_data()"
   ]
  },
  {
   "cell_type": "code",
   "execution_count": 12,
   "metadata": {},
   "outputs": [
    {
     "name": "stdout",
     "output_type": "stream",
     "text": [
      "(60000, 28, 28, 1) (10000, 28, 28, 1) (60000,) (10000,)\n"
     ]
    }
   ],
   "source": [
    "X_train = X_train.reshape(-1, 28, 28, 1)\n",
    "X_test = X_test.reshape(-1, 28, 28, 1)\n",
    "\n",
    "print(X_train.shape, X_test.shape, y_train.shape, y_test.shape)"
   ]
  },
  {
   "cell_type": "code",
   "execution_count": 13,
   "metadata": {},
   "outputs": [],
   "source": [
    "X_train = X_train.astype(np.float32) / 255.0\n",
    "X_test = X_test.astype(np.float32) / 255.0"
   ]
  },
  {
   "cell_type": "code",
   "execution_count": 14,
   "metadata": {},
   "outputs": [],
   "source": [
    "cnn = Sequential()\n",
    "\n",
    "cnn.add(Conv2D(input_shape=(28,28,1), kernel_size=(3,3), filters=32, activation='relu'))\n",
    "cnn.add(Conv2D(kernel_size=(3,3), filters=64, activation='relu'))\n",
    "cnn.add(MaxPool2D(pool_size=(2,2)))\n",
    "cnn.add(Dropout(0.25))\n",
    "\n",
    "cnn.add(Flatten())\n",
    "\n",
    "cnn.add(Dense(128, activation='relu'))\n",
    "cnn.add(Dropout(0.5))\n",
    "cnn.add(Dense(10, activation='softmax'))"
   ]
  },
  {
   "cell_type": "code",
   "execution_count": 15,
   "metadata": {},
   "outputs": [
    {
     "name": "stdout",
     "output_type": "stream",
     "text": [
      "Model: \"sequential_1\"\n",
      "_________________________________________________________________\n",
      "Layer (type)                 Output Shape              Param #   \n",
      "=================================================================\n",
      "conv2d_2 (Conv2D)            (None, 26, 26, 32)        320       \n",
      "_________________________________________________________________\n",
      "conv2d_3 (Conv2D)            (None, 24, 24, 64)        18496     \n",
      "_________________________________________________________________\n",
      "max_pooling2d_1 (MaxPooling2 (None, 12, 12, 64)        0         \n",
      "_________________________________________________________________\n",
      "dropout_2 (Dropout)          (None, 12, 12, 64)        0         \n",
      "_________________________________________________________________\n",
      "flatten_1 (Flatten)          (None, 9216)              0         \n",
      "_________________________________________________________________\n",
      "dense_2 (Dense)              (None, 128)               1179776   \n",
      "_________________________________________________________________\n",
      "dropout_3 (Dropout)          (None, 128)               0         \n",
      "_________________________________________________________________\n",
      "dense_3 (Dense)              (None, 10)                1290      \n",
      "=================================================================\n",
      "Total params: 1,199,882\n",
      "Trainable params: 1,199,882\n",
      "Non-trainable params: 0\n",
      "_________________________________________________________________\n"
     ]
    }
   ],
   "source": [
    "cnn.compile(loss='sparse_categorical_crossentropy', optimizer=Adam(), metrics=['accuracy'])\n",
    "\n",
    "cnn.summary()"
   ]
  },
  {
   "cell_type": "code",
   "execution_count": 16,
   "metadata": {},
   "outputs": [
    {
     "name": "stdout",
     "output_type": "stream",
     "text": [
      "Epoch 1/30\n",
      "469/469 [==============================] - 143s 303ms/step - loss: 0.5357 - accuracy: 0.8123 - val_loss: 0.3431 - val_accuracy: 0.8769\n",
      "Epoch 2/30\n",
      "469/469 [==============================] - 230s 491ms/step - loss: 0.3449 - accuracy: 0.8780 - val_loss: 0.2823 - val_accuracy: 0.8964\n",
      "Epoch 3/30\n",
      "469/469 [==============================] - 205s 437ms/step - loss: 0.2926 - accuracy: 0.8953 - val_loss: 0.2619 - val_accuracy: 0.9041\n",
      "Epoch 4/30\n",
      "469/469 [==============================] - 204s 436ms/step - loss: 0.2616 - accuracy: 0.9042 - val_loss: 0.2638 - val_accuracy: 0.8995\n",
      "Epoch 5/30\n",
      "469/469 [==============================] - 243s 517ms/step - loss: 0.2371 - accuracy: 0.9130 - val_loss: 0.2390 - val_accuracy: 0.9112\n",
      "Epoch 6/30\n",
      "469/469 [==============================] - 172s 367ms/step - loss: 0.2139 - accuracy: 0.9209 - val_loss: 0.2243 - val_accuracy: 0.9162\n",
      "Epoch 7/30\n",
      "469/469 [==============================] - 152s 325ms/step - loss: 0.1988 - accuracy: 0.9269 - val_loss: 0.2200 - val_accuracy: 0.9195\n",
      "Epoch 8/30\n",
      "469/469 [==============================] - 157s 334ms/step - loss: 0.1832 - accuracy: 0.9327 - val_loss: 0.2128 - val_accuracy: 0.9253\n",
      "Epoch 9/30\n",
      "469/469 [==============================] - 151s 322ms/step - loss: 0.1705 - accuracy: 0.9373 - val_loss: 0.2103 - val_accuracy: 0.9241\n",
      "Epoch 10/30\n",
      "469/469 [==============================] - 153s 327ms/step - loss: 0.1601 - accuracy: 0.9409 - val_loss: 0.2092 - val_accuracy: 0.9279\n",
      "Epoch 11/30\n",
      "469/469 [==============================] - 152s 324ms/step - loss: 0.1509 - accuracy: 0.9434 - val_loss: 0.2171 - val_accuracy: 0.9230\n",
      "Epoch 12/30\n",
      "469/469 [==============================] - 180s 384ms/step - loss: 0.1391 - accuracy: 0.9474 - val_loss: 0.2200 - val_accuracy: 0.9256\n",
      "Epoch 13/30\n",
      "469/469 [==============================] - 167s 356ms/step - loss: 0.1333 - accuracy: 0.9491 - val_loss: 0.2164 - val_accuracy: 0.9257\n",
      "Epoch 14/30\n",
      "469/469 [==============================] - 171s 364ms/step - loss: 0.1230 - accuracy: 0.9539 - val_loss: 0.2159 - val_accuracy: 0.9288\n",
      "Epoch 15/30\n",
      "469/469 [==============================] - 148s 317ms/step - loss: 0.1172 - accuracy: 0.9555 - val_loss: 0.2207 - val_accuracy: 0.9284\n",
      "Epoch 16/30\n",
      "469/469 [==============================] - 140s 298ms/step - loss: 0.1123 - accuracy: 0.9571 - val_loss: 0.2311 - val_accuracy: 0.9287\n",
      "Epoch 17/30\n",
      "469/469 [==============================] - 157s 334ms/step - loss: 0.1065 - accuracy: 0.9596 - val_loss: 0.2348 - val_accuracy: 0.9289\n",
      "Epoch 18/30\n",
      "469/469 [==============================] - 173s 368ms/step - loss: 0.1040 - accuracy: 0.9601 - val_loss: 0.2277 - val_accuracy: 0.9306\n",
      "Epoch 19/30\n",
      "469/469 [==============================] - 203s 432ms/step - loss: 0.0972 - accuracy: 0.9633 - val_loss: 0.2295 - val_accuracy: 0.9323\n",
      "Epoch 20/30\n",
      "469/469 [==============================] - 184s 393ms/step - loss: 0.0963 - accuracy: 0.9628 - val_loss: 0.2365 - val_accuracy: 0.9276\n",
      "Epoch 21/30\n",
      "469/469 [==============================] - 191s 407ms/step - loss: 0.0893 - accuracy: 0.9661 - val_loss: 0.2438 - val_accuracy: 0.9282\n",
      "Epoch 22/30\n",
      "469/469 [==============================] - 192s 410ms/step - loss: 0.0851 - accuracy: 0.9674 - val_loss: 0.2563 - val_accuracy: 0.9275\n",
      "Epoch 23/30\n",
      "469/469 [==============================] - 182s 388ms/step - loss: 0.0848 - accuracy: 0.9677 - val_loss: 0.2562 - val_accuracy: 0.9272\n",
      "Epoch 24/30\n",
      "469/469 [==============================] - 185s 395ms/step - loss: 0.0818 - accuracy: 0.9678 - val_loss: 0.2497 - val_accuracy: 0.9306\n",
      "Epoch 25/30\n",
      "469/469 [==============================] - 231s 493ms/step - loss: 0.0763 - accuracy: 0.9707 - val_loss: 0.2615 - val_accuracy: 0.9319\n",
      "Epoch 26/30\n",
      "469/469 [==============================] - 181s 385ms/step - loss: 0.0781 - accuracy: 0.9699 - val_loss: 0.2581 - val_accuracy: 0.9328\n",
      "Epoch 27/30\n",
      "469/469 [==============================] - 190s 406ms/step - loss: 0.0734 - accuracy: 0.9717 - val_loss: 0.2478 - val_accuracy: 0.9328\n",
      "Epoch 28/30\n",
      "469/469 [==============================] - 139s 297ms/step - loss: 0.0745 - accuracy: 0.9716 - val_loss: 0.2632 - val_accuracy: 0.9309\n",
      "Epoch 29/30\n",
      "469/469 [==============================] - 151s 322ms/step - loss: 0.0698 - accuracy: 0.9726 - val_loss: 0.2639 - val_accuracy: 0.9289\n",
      "Epoch 30/30\n",
      "469/469 [==============================] - 75s 159ms/step - loss: 0.0712 - accuracy: 0.9731 - val_loss: 0.2923 - val_accuracy: 0.9266\n"
     ]
    }
   ],
   "source": [
    "hist = cnn.fit(X_train, y_train, batch_size=128, epochs=30, validation_data=(X_test, y_test))"
   ]
  },
  {
   "cell_type": "code",
   "execution_count": 20,
   "metadata": {},
   "outputs": [
    {
     "name": "stdout",
     "output_type": "stream",
     "text": [
      "313/313 [==============================] - 3s 11ms/step - loss: 0.2923 - accuracy: 0.9266\n"
     ]
    },
    {
     "data": {
      "text/plain": [
       "[0.29227662086486816, 0.9265999794006348]"
      ]
     },
     "execution_count": 20,
     "metadata": {},
     "output_type": "execute_result"
    }
   ],
   "source": [
    "cnn.evaluate(X_test, y_test)"
   ]
  },
  {
   "cell_type": "code",
   "execution_count": 21,
   "metadata": {},
   "outputs": [
    {
     "data": {
      "text/plain": [
       "<matplotlib.legend.Legend at 0x24cb8507d30>"
      ]
     },
     "execution_count": 21,
     "metadata": {},
     "output_type": "execute_result"
    },
    {
     "data": {
      "image/png": "[encoded data removed]",
      "text/plain": [
       "<Figure size 432x288 with 1 Axes>"
      ]
     },
     "metadata": {
      "needs_background": "light"
     },
     "output_type": "display_data"
    }
   ],
   "source": [
    "import matplotlib.pyplot as plt\n",
    "\n",
    "plt.plot(hist.history['accuracy'])\n",
    "plt.plot(hist.history['val_accuracy'])\n",
    "plt.title('accuracy trend')\n",
    "\n",
    "plt.legend(['accuracy', 'val accuracy'], loc='best')"
   ]
  },
  {
   "cell_type": "code",
   "execution_count": 22,
   "metadata": {},
   "outputs": [
    {
     "data": {
      "text/plain": [
       "<matplotlib.legend.Legend at 0x24cb8426280>"
      ]
     },
     "execution_count": 22,
     "metadata": {},
     "output_type": "execute_result"
    },
    {
     "data": {
      "image/png": "[encoded data removed]",
      "text/plain": [
       "<Figure size 432x288 with 1 Axes>"
      ]
     },
     "metadata": {
      "needs_background": "light"
     },
     "output_type": "display_data"
    }
   ],
   "source": [
    "plt.plot(hist.history['loss'])\n",
    "plt.plot(hist.history['val_loss'])\n",
    "plt.title('loss trend')\n",
    "\n",
    "plt.legend(['loss', 'val loss'], loc='best')"
   ]
  },
  {
   "cell_type": "markdown",
   "metadata": {},
   "source": [
    "CNN 성능 향상 \n",
    "- 더 많은 레이어 쌓기  \n",
    "컨볼루션 레이어가 중첩된 더 깊은 구조가 될수록 성능은 크게 개선됨\n",
    "- 이미지 데이터 보강 (Image data Augmentation)\n",
    "많은 학습 데이터를 사용하면 좋다. -> 기존 이미지 데이터에 다양한 변형(rotate, shear, shift, ..)을 주고 이렇게 생성된 데이터를 원복 학습 데이터에 포함시킨다. \n",
    "- 높은 해상도 학습 데이터 확보  \n",
    "동일한 cnn구조라면 상대적으로 높은 해상도의 학습데이터를 통해 성능 개선이 가능하다. \n",
    "- 가중치 규제, Dropout, Batch Normalization으로도 성능을 향상 시킬 수 있다. "
   ]
  }
 ],
 "metadata": {
  "interpreter": {
   "hash": "762568b60ff02034ad30f76ec13eabb79a0decfbc2d9faa7bfbe9062055c30a3"
  },
  "kernelspec": {
   "display_name": "Python 3.9.6 64-bit ('tf-K1gCNad0': pipenv)",
   "language": "python",
   "name": "python3"
  },
  "language_info": {
   "codemirror_mode": {
    "name": "ipython",
    "version": 3
   },
   "file_extension": ".py",
   "mimetype": "text/x-python",
   "name": "python",
   "nbconvert_exporter": "python",
   "pygments_lexer": "ipython3",
   "version": "3.9.6"
  },
  "orig_nbformat": 4
 },
 "nbformat": 4,
 "nbformat_minor": 2
}
