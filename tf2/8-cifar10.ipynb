{
 "cells": [
  {
   "cell_type": "code",
   "execution_count": 5,
   "metadata": {},
   "outputs": [],
   "source": [
    "import numpy as np\n",
    "import tensorflow as tf\n",
    "\n",
    "from tensorflow.keras.datasets import cifar10\n",
    "from tensorflow.keras.models import Sequential\n",
    "from tensorflow.keras.layers import Conv2D, MaxPooling2D, Flatten, Dense, Dropout\n",
    "from tensorflow.keras.optimizers import Adam\n",
    "from tensorflow.keras.preprocessing.image import ImageDataGenerator"
   ]
  },
  {
   "cell_type": "code",
   "execution_count": 6,
   "metadata": {},
   "outputs": [],
   "source": [
    "import ssl\n",
    "ssl._create_default_https_context = ssl._create_unverified_context"
   ]
  },
  {
   "cell_type": "code",
   "execution_count": 7,
   "metadata": {},
   "outputs": [
    {
     "name": "stdout",
     "output_type": "stream",
     "text": [
      "(50000, 32, 32, 3) (10000, 32, 32, 3) (50000, 1) (10000, 1)\n"
     ]
    }
   ],
   "source": [
    "(X_train, y_train), (X_test, y_test) = cifar10.load_data()\n",
    "\n",
    "X_train = X_train.astype(np.float32) / 255.0\n",
    "X_test = X_test.astype(np.float32) / 255.0\n",
    "\n",
    "print(X_train.shape, X_test.shape, y_train.shape, y_test.shape)"
   ]
  },
  {
   "cell_type": "code",
   "execution_count": 8,
   "metadata": {},
   "outputs": [],
   "source": [
    "gen = ImageDataGenerator(rotation_range=20, shear_range=0.2, width_shift_range=0.2, \n",
    "                        height_shift_range=0.2, horizontal_flip=True)\n",
    "\n",
    "# train data의 개수(50000)의 1.5배만큼 랜덤한 데이터를 생성\n",
    "augment_ratio = 1.5 \n",
    "augment_size = int(augment_ratio * X_train.shape[0])\n",
    "randidx = np.random.randint(X_train.shape[0], size=augment_size)"
   ]
  },
  {
   "cell_type": "code",
   "execution_count": 9,
   "metadata": {},
   "outputs": [],
   "source": [
    "X_augmented = X_train[randidx].copy()\n",
    "y_augmented = y_train[randidx].copy()\n",
    "\n",
    "X_augmented, y_augmented = gen.flow(X_augmented, y_augmented, batch_size=augment_size, shuffle=False).next()\n",
    "\n",
    "X_train = np.concatenate((X_train, X_augmented))\n",
    "y_train = np.concatenate((y_train, y_augmented))\n",
    "\n",
    "s = np.arange(X_train.shape[0])\n",
    "np.random.shuffle(s)\n",
    "\n",
    "X_train = X_train[s]\n",
    "y_train = y_train[s]"
   ]
  },
  {
   "cell_type": "code",
   "execution_count": 26,
   "metadata": {},
   "outputs": [
    {
     "name": "stdout",
     "output_type": "stream",
     "text": [
      "Model: \"sequential\"\n",
      "_________________________________________________________________\n",
      "Layer (type)                 Output Shape              Param #   \n",
      "=================================================================\n",
      "conv2d (Conv2D)              (None, 32, 32, 32)        896       \n",
      "_________________________________________________________________\n",
      "conv2d_1 (Conv2D)            (None, 32, 32, 32)        9248      \n",
      "_________________________________________________________________\n",
      "max_pooling2d (MaxPooling2D) (None, 16, 16, 32)        0         \n",
      "_________________________________________________________________\n",
      "dropout (Dropout)            (None, 16, 16, 32)        0         \n",
      "_________________________________________________________________\n",
      "conv2d_2 (Conv2D)            (None, 16, 16, 64)        18496     \n",
      "_________________________________________________________________\n",
      "conv2d_3 (Conv2D)            (None, 16, 16, 64)        36928     \n",
      "_________________________________________________________________\n",
      "max_pooling2d_1 (MaxPooling2 (None, 8, 8, 64)          0         \n",
      "_________________________________________________________________\n",
      "dropout_1 (Dropout)          (None, 8, 8, 64)          0         \n",
      "_________________________________________________________________\n",
      "conv2d_4 (Conv2D)            (None, 8, 8, 128)         73856     \n",
      "_________________________________________________________________\n",
      "max_pooling2d_2 (MaxPooling2 (None, 4, 4, 128)         0         \n",
      "_________________________________________________________________\n",
      "dropout_2 (Dropout)          (None, 4, 4, 128)         0         \n",
      "_________________________________________________________________\n",
      "conv2d_5 (Conv2D)            (None, 4, 4, 128)         147584    \n",
      "_________________________________________________________________\n",
      "max_pooling2d_3 (MaxPooling2 (None, 2, 2, 128)         0         \n",
      "_________________________________________________________________\n",
      "dropout_3 (Dropout)          (None, 2, 2, 128)         0         \n",
      "_________________________________________________________________\n",
      "conv2d_6 (Conv2D)            (None, 2, 2, 256)         295168    \n",
      "_________________________________________________________________\n",
      "max_pooling2d_4 (MaxPooling2 (None, 1, 1, 256)         0         \n",
      "_________________________________________________________________\n",
      "dropout_4 (Dropout)          (None, 1, 1, 256)         0         \n",
      "_________________________________________________________________\n",
      "flatten (Flatten)            (None, 256)               0         \n",
      "_________________________________________________________________\n",
      "dense (Dense)                (None, 128)               32896     \n",
      "_________________________________________________________________\n",
      "dropout_5 (Dropout)          (None, 128)               0         \n",
      "_________________________________________________________________\n",
      "dense_1 (Dense)              (None, 10)                1290      \n",
      "=================================================================\n",
      "Total params: 616,362\n",
      "Trainable params: 616,362\n",
      "Non-trainable params: 0\n",
      "_________________________________________________________________\n"
     ]
    }
   ],
   "source": [
    "cnn=Sequential()\n",
    "\n",
    "cnn.add(Conv2D(32,(3,3),activation='relu', padding='same',input_shape=(32,32,3))) # 3x3필터 32개 \n",
    "cnn.add(Conv2D(32,(3,3),activation='relu', padding='same'))\n",
    "cnn.add(MaxPooling2D(pool_size=(2,2)))\n",
    "cnn.add(Dropout(0.25))\n",
    "\n",
    "cnn.add(Conv2D(64,(3,3),activation='relu', padding='same')) \n",
    "cnn.add(Conv2D(64,(3,3),activation='relu', padding='same'))\n",
    "cnn.add(MaxPooling2D(pool_size=(2,2)))\n",
    "cnn.add(Dropout(0.25))\n",
    "\n",
    "cnn.add(Conv2D(128,(3,3),activation='relu', padding='same')) \n",
    "cnn.add(MaxPooling2D(pool_size=(2,2)))\n",
    "cnn.add(Dropout(0.25))\n",
    "cnn.add(Conv2D(128,(3,3),activation='relu', padding='same'))\n",
    "cnn.add(MaxPooling2D(pool_size=(2,2)))\n",
    "cnn.add(Dropout(0.25))\n",
    "cnn.add(Conv2D(256,(3,3),activation='relu', padding='same'))\n",
    "cnn.add(MaxPooling2D(pool_size=(2,2)))\n",
    "cnn.add(Dropout(0.25))\n",
    "\n",
    "cnn.add(Flatten())\n",
    "\n",
    "cnn.add(Dense(128,activation='relu'))\n",
    "cnn.add(Dropout(0.5))\n",
    "cnn.add(Dense(10,activation='softmax'))\n",
    "\n",
    "cnn.summary()"
   ]
  },
  {
   "cell_type": "code",
   "execution_count": 29,
   "metadata": {},
   "outputs": [
    {
     "name": "stdout",
     "output_type": "stream",
     "text": [
      "Epoch 1/50\n",
      "489/489 [==============================] - 427s 869ms/step - loss: 0.4835 - accuracy: 0.8363 - val_loss: 0.4388 - val_accuracy: 0.8579\n",
      "Epoch 2/50\n",
      "489/489 [==============================] - 426s 872ms/step - loss: 0.4780 - accuracy: 0.8386 - val_loss: 0.4496 - val_accuracy: 0.8514\n",
      "Epoch 3/50\n",
      "489/489 [==============================] - 417s 853ms/step - loss: 0.4789 - accuracy: 0.8378 - val_loss: 0.4375 - val_accuracy: 0.8568\n",
      "Epoch 4/50\n",
      "489/489 [==============================] - 412s 843ms/step - loss: 0.4760 - accuracy: 0.8392 - val_loss: 0.4216 - val_accuracy: 0.8583\n",
      "Epoch 5/50\n",
      "489/489 [==============================] - 23423s 48s/step - loss: 0.4757 - accuracy: 0.8398 - val_loss: 0.4214 - val_accuracy: 0.8646\n",
      "Epoch 6/50\n",
      "489/489 [==============================] - 424s 867ms/step - loss: 0.4723 - accuracy: 0.8405 - val_loss: 0.4464 - val_accuracy: 0.8602\n",
      "Epoch 7/50\n",
      "489/489 [==============================] - 416s 850ms/step - loss: 0.4734 - accuracy: 0.8404 - val_loss: 0.4457 - val_accuracy: 0.8553\n",
      "Epoch 8/50\n",
      "489/489 [==============================] - 399s 816ms/step - loss: 0.4760 - accuracy: 0.8400 - val_loss: 0.4392 - val_accuracy: 0.8573\n",
      "Epoch 9/50\n",
      "489/489 [==============================] - 438s 895ms/step - loss: 0.4722 - accuracy: 0.8403 - val_loss: 0.4509 - val_accuracy: 0.8559\n",
      "Epoch 10/50\n",
      "489/489 [==============================] - 371s 759ms/step - loss: 0.4661 - accuracy: 0.8434 - val_loss: 0.4582 - val_accuracy: 0.8553\n",
      "Epoch 11/50\n",
      "489/489 [==============================] - 358s 732ms/step - loss: 0.4681 - accuracy: 0.8416 - val_loss: 0.4479 - val_accuracy: 0.8586\n",
      "Epoch 12/50\n",
      "489/489 [==============================] - 327s 670ms/step - loss: 0.4655 - accuracy: 0.8429 - val_loss: 0.4266 - val_accuracy: 0.8641\n",
      "Epoch 13/50\n",
      "489/489 [==============================] - 329s 673ms/step - loss: 0.4660 - accuracy: 0.8435 - val_loss: 0.4633 - val_accuracy: 0.8506\n",
      "Epoch 14/50\n",
      "489/489 [==============================] - 391s 800ms/step - loss: 0.4694 - accuracy: 0.8414 - val_loss: 0.4499 - val_accuracy: 0.8583\n",
      "Epoch 15/50\n",
      "489/489 [==============================] - 346s 707ms/step - loss: 0.4628 - accuracy: 0.8436 - val_loss: 0.4582 - val_accuracy: 0.8565\n",
      "Epoch 16/50\n",
      "489/489 [==============================] - 345s 705ms/step - loss: 0.4586 - accuracy: 0.8451 - val_loss: 0.4400 - val_accuracy: 0.8586\n",
      "Epoch 17/50\n",
      "489/489 [==============================] - 413s 846ms/step - loss: 0.4613 - accuracy: 0.8442 - val_loss: 0.4435 - val_accuracy: 0.8589\n",
      "Epoch 18/50\n",
      "489/489 [==============================] - 370s 757ms/step - loss: 0.4562 - accuracy: 0.8465 - val_loss: 0.4599 - val_accuracy: 0.8584\n",
      "Epoch 19/50\n",
      "489/489 [==============================] - 356s 727ms/step - loss: 0.4643 - accuracy: 0.8442 - val_loss: 0.4367 - val_accuracy: 0.8594\n",
      "Epoch 20/50\n",
      "489/489 [==============================] - 367s 751ms/step - loss: 0.4634 - accuracy: 0.8437 - val_loss: 0.4610 - val_accuracy: 0.8522\n",
      "Epoch 21/50\n",
      "489/489 [==============================] - 340s 695ms/step - loss: 0.4526 - accuracy: 0.8471 - val_loss: 0.4512 - val_accuracy: 0.8590\n",
      "Epoch 22/50\n",
      "489/489 [==============================] - 333s 681ms/step - loss: 0.4566 - accuracy: 0.8457 - val_loss: 0.4295 - val_accuracy: 0.8665\n",
      "Epoch 23/50\n",
      "489/489 [==============================] - 334s 684ms/step - loss: 0.4561 - accuracy: 0.8449 - val_loss: 0.4261 - val_accuracy: 0.8647\n",
      "Epoch 24/50\n",
      "489/489 [==============================] - 333s 681ms/step - loss: 0.4550 - accuracy: 0.8458 - val_loss: 0.4400 - val_accuracy: 0.8582\n",
      "Epoch 25/50\n",
      "489/489 [==============================] - 333s 682ms/step - loss: 0.4531 - accuracy: 0.8476 - val_loss: 0.4217 - val_accuracy: 0.8624\n",
      "Epoch 26/50\n",
      "489/489 [==============================] - 433s 885ms/step - loss: 0.4511 - accuracy: 0.8484 - val_loss: 0.4357 - val_accuracy: 0.8644\n",
      "Epoch 27/50\n",
      "489/489 [==============================] - 412s 843ms/step - loss: 0.4485 - accuracy: 0.8501 - val_loss: 0.4485 - val_accuracy: 0.8616\n",
      "Epoch 28/50\n",
      "489/489 [==============================] - 344s 703ms/step - loss: 0.4516 - accuracy: 0.8473 - val_loss: 0.4381 - val_accuracy: 0.8630\n",
      "Epoch 29/50\n",
      "489/489 [==============================] - 342s 699ms/step - loss: 0.4502 - accuracy: 0.8486 - val_loss: 0.4406 - val_accuracy: 0.8623\n",
      "Epoch 30/50\n",
      "489/489 [==============================] - 341s 697ms/step - loss: 0.4483 - accuracy: 0.8485 - val_loss: 0.4180 - val_accuracy: 0.8682\n",
      "Epoch 31/50\n",
      "489/489 [==============================] - 347s 710ms/step - loss: 0.4542 - accuracy: 0.8480 - val_loss: 0.4337 - val_accuracy: 0.8598\n",
      "Epoch 32/50\n",
      "489/489 [==============================] - 356s 727ms/step - loss: 0.4484 - accuracy: 0.8492 - val_loss: 0.4204 - val_accuracy: 0.8649\n",
      "Epoch 33/50\n",
      "489/489 [==============================] - 355s 725ms/step - loss: 0.4471 - accuracy: 0.8502 - val_loss: 0.4313 - val_accuracy: 0.8647\n",
      "Epoch 34/50\n",
      "489/489 [==============================] - 342s 699ms/step - loss: 0.4479 - accuracy: 0.8497 - val_loss: 0.4247 - val_accuracy: 0.8656\n",
      "Epoch 35/50\n",
      "489/489 [==============================] - 345s 705ms/step - loss: 0.4449 - accuracy: 0.8513 - val_loss: 0.4342 - val_accuracy: 0.8650\n",
      "Epoch 36/50\n",
      "489/489 [==============================] - 381s 778ms/step - loss: 0.4417 - accuracy: 0.8510 - val_loss: 0.4697 - val_accuracy: 0.8573\n",
      "Epoch 37/50\n",
      "489/489 [==============================] - 372s 761ms/step - loss: 0.4420 - accuracy: 0.8514 - val_loss: 0.4218 - val_accuracy: 0.8682\n",
      "Epoch 38/50\n",
      "489/489 [==============================] - 384s 785ms/step - loss: 0.4405 - accuracy: 0.8521 - val_loss: 0.4195 - val_accuracy: 0.8666\n",
      "Epoch 39/50\n",
      "489/489 [==============================] - 381s 778ms/step - loss: 0.4428 - accuracy: 0.8517 - val_loss: 0.4371 - val_accuracy: 0.8626\n",
      "Epoch 40/50\n",
      "489/489 [==============================] - 349s 714ms/step - loss: 0.4406 - accuracy: 0.8512 - val_loss: 0.4238 - val_accuracy: 0.8700\n",
      "Epoch 41/50\n",
      "489/489 [==============================] - 366s 748ms/step - loss: 0.4439 - accuracy: 0.8517 - val_loss: 0.4315 - val_accuracy: 0.8673\n",
      "Epoch 42/50\n",
      "489/489 [==============================] - 349s 714ms/step - loss: 0.4387 - accuracy: 0.8529 - val_loss: 0.4467 - val_accuracy: 0.8615\n",
      "Epoch 43/50\n",
      "489/489 [==============================] - 350s 715ms/step - loss: 0.4390 - accuracy: 0.8538 - val_loss: 0.4375 - val_accuracy: 0.8677\n",
      "Epoch 44/50\n",
      "489/489 [==============================] - 368s 753ms/step - loss: 0.4411 - accuracy: 0.8518 - val_loss: 0.4469 - val_accuracy: 0.8608\n",
      "Epoch 45/50\n",
      "489/489 [==============================] - 370s 757ms/step - loss: 0.4372 - accuracy: 0.8539 - val_loss: 0.4146 - val_accuracy: 0.8655\n",
      "Epoch 46/50\n",
      "489/489 [==============================] - 351s 717ms/step - loss: 0.4386 - accuracy: 0.8520 - val_loss: 0.4658 - val_accuracy: 0.8568\n",
      "Epoch 47/50\n",
      "489/489 [==============================] - 363s 742ms/step - loss: 0.4393 - accuracy: 0.8536 - val_loss: 0.4227 - val_accuracy: 0.8687\n",
      "Epoch 48/50\n",
      "489/489 [==============================] - 369s 755ms/step - loss: 0.4367 - accuracy: 0.8536 - val_loss: 0.4233 - val_accuracy: 0.8689\n",
      "Epoch 49/50\n",
      "489/489 [==============================] - 353s 722ms/step - loss: 0.4388 - accuracy: 0.8528 - val_loss: 0.4285 - val_accuracy: 0.8651\n",
      "Epoch 50/50\n",
      "489/489 [==============================] - 346s 708ms/step - loss: 0.4370 - accuracy: 0.8540 - val_loss: 0.4649 - val_accuracy: 0.8584\n"
     ]
    }
   ],
   "source": [
    "cnn.compile(loss='sparse_categorical_crossentropy', optimizer=Adam(), metrics=['accuracy'])\n",
    "\n",
    "hist = cnn.fit(X_train, y_train, batch_size=256, epochs=50, validation_data=(X_test, y_test))"
   ]
  },
  {
   "cell_type": "code",
   "execution_count": 30,
   "metadata": {},
   "outputs": [
    {
     "name": "stdout",
     "output_type": "stream",
     "text": [
      "313/313 [==============================] - 8s 25ms/step - loss: 0.4649 - accuracy: 0.8584\n"
     ]
    },
    {
     "data": {
      "text/plain": [
       "[0.46491748094558716, 0.8583999872207642]"
      ]
     },
     "execution_count": 30,
     "metadata": {},
     "output_type": "execute_result"
    }
   ],
   "source": [
    "cnn.evaluate(X_test, y_test)"
   ]
  },
  {
   "cell_type": "code",
   "execution_count": 31,
   "metadata": {},
   "outputs": [
    {
     "data": {
      "text/plain": [
       "<matplotlib.legend.Legend at 0x289ddd686d0>"
      ]
     },
     "execution_count": 31,
     "metadata": {},
     "output_type": "execute_result"
    },
    {
     "data": {
      "image/png": "[encoded data removed]",
      "text/plain": [
       "<Figure size 432x288 with 1 Axes>"
      ]
     },
     "metadata": {
      "needs_background": "light"
     },
     "output_type": "display_data"
    }
   ],
   "source": [
    "import matplotlib.pyplot as plt\n",
    "\n",
    "plt.plot(hist.history['accuracy'], label='train')\n",
    "plt.plot(hist.history['val_accuracy'], label='validation')\n",
    "\n",
    "plt.ylabel('accuracy')\n",
    "plt.xlabel('epochs')\n",
    "\n",
    "plt.legend()"
   ]
  },
  {
   "cell_type": "code",
   "execution_count": 32,
   "metadata": {},
   "outputs": [
    {
     "data": {
      "text/plain": [
       "<matplotlib.legend.Legend at 0x289e1503d00>"
      ]
     },
     "execution_count": 32,
     "metadata": {},
     "output_type": "execute_result"
    },
    {
     "data": {
      "image/png": "[encoded data removed]",
      "text/plain": [
       "<Figure size 432x288 with 1 Axes>"
      ]
     },
     "metadata": {
      "needs_background": "light"
     },
     "output_type": "display_data"
    }
   ],
   "source": [
    "import matplotlib.pyplot as plt\n",
    "\n",
    "plt.plot(hist.history['loss'], label='train')\n",
    "plt.plot(hist.history['val_loss'], label='validation')\n",
    "\n",
    "plt.ylabel('loss')\n",
    "plt.xlabel('epochs')\n",
    "\n",
    "plt.legend()"
   ]
  },
  {
   "cell_type": "code",
   "execution_count": null,
   "metadata": {},
   "outputs": [],
   "source": []
  }
 ],
 "metadata": {
  "interpreter": {
   "hash": "762568b60ff02034ad30f76ec13eabb79a0decfbc2d9faa7bfbe9062055c30a3"
  },
  "kernelspec": {
   "display_name": "Python 3.9.6 64-bit ('tf-K1gCNad0': pipenv)",
   "language": "python",
   "name": "python3"
  },
  "language_info": {
   "codemirror_mode": {
    "name": "ipython",
    "version": 3
   },
   "file_extension": ".py",
   "mimetype": "text/x-python",
   "name": "python",
   "nbconvert_exporter": "python",
   "pygments_lexer": "ipython3",
   "version": "3.9.6"
  },
  "orig_nbformat": 4
 },
 "nbformat": 4,
 "nbformat_minor": 2
}
