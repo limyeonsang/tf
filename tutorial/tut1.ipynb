{
 "cells": [
  {
   "cell_type": "code",
   "execution_count": 1,
   "source": [
    "import tensorflow as tf"
   ],
   "outputs": [],
   "metadata": {}
  },
  {
   "cell_type": "code",
   "execution_count": 2,
   "source": [
    "mnist = tf.keras.datasets.mnist\r\n",
    "\r\n",
    "(x_train, y_train), (x_test, y_test) = mnist.load_data()\r\n",
    "x_train, x_test = x_train / 255.0, x_test / 255.0"
   ],
   "outputs": [],
   "metadata": {}
  },
  {
   "cell_type": "code",
   "execution_count": 4,
   "source": [
    "model = tf.keras.models.Sequential([\r\n",
    "  tf.keras.layers.Flatten(input_shape=(28, 28)),\r\n",
    "  tf.keras.layers.Dense(128, activation='relu'),\r\n",
    "  tf.keras.layers.Dropout(0.2),\r\n",
    "  tf.keras.layers.Dense(10, activation='softmax')\r\n",
    "])"
   ],
   "outputs": [],
   "metadata": {}
  },
  {
   "cell_type": "code",
   "execution_count": 5,
   "source": [
    "model.compile(optimizer='adam', loss='sparse_categorical_crossentropy', \r\n",
    "metrics=['accuracy'])"
   ],
   "outputs": [],
   "metadata": {}
  },
  {
   "cell_type": "code",
   "execution_count": 6,
   "source": [
    "model.fit(x_train, y_train, epochs=5)\r\n",
    "model.evaluate(x_test, y_test, verbose=2)"
   ],
   "outputs": [],
   "metadata": {}
  },
  {
   "cell_type": "code",
   "execution_count": null,
   "source": [],
   "outputs": [],
   "metadata": {}
  }
 ],
 "metadata": {
  "orig_nbformat": 4,
  "language_info": {
   "name": "python",
   "version": "3.9.6",
   "mimetype": "text/x-python",
   "codemirror_mode": {
    "name": "ipython",
    "version": 3
   },
   "pygments_lexer": "ipython3",
   "nbconvert_exporter": "python",
   "file_extension": ".py"
  },
  "kernelspec": {
   "name": "python3",
   "display_name": "Python 3.9.6 64-bit ('tf-K1gCNad0': pipenv)"
  },
  "interpreter": {
   "hash": "762568b60ff02034ad30f76ec13eabb79a0decfbc2d9faa7bfbe9062055c30a3"
  }
 },
 "nbformat": 4,
 "nbformat_minor": 2
}