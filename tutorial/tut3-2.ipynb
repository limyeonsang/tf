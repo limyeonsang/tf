{
 "cells": [
  {
   "cell_type": "markdown",
   "source": [
    "# User Define Training"
   ],
   "metadata": {}
  },
  {
   "cell_type": "code",
   "execution_count": 37,
   "source": [
    "import tensorflow as tf"
   ],
   "outputs": [],
   "metadata": {}
  },
  {
   "cell_type": "code",
   "execution_count": 38,
   "source": [
    "train_dataset_url = \"https://storage.googleapis.com/download.tensorflow.org/data/iris_training.csv\"\r\n",
    "\r\n",
    "train_dataset_fp = tf.keras.utils.get_file(fname=r'D:\\다운로드\\dataset\\Keras\\train_dataset_url',\r\n",
    "                                           origin=train_dataset_url)\r\n",
    "\r\n",
    "print(\"데이터셋이 복사된 위치: {}\".format(train_dataset_fp))"
   ],
   "outputs": [
    {
     "output_type": "stream",
     "name": "stdout",
     "text": [
      "데이터셋이 복사된 위치: D:\\다운로드\\dataset\\Keras\\train_dataset_url\n"
     ]
    }
   ],
   "metadata": {}
  },
  {
   "cell_type": "code",
   "execution_count": 39,
   "source": [
    "train_dataset_url = \"https://storage.googleapis.com/download.tensorflow.org/data/iris_training.csv\"\r\n",
    "\r\n",
    "train_dataset_fp = tf.keras.utils.get_file(fname=r'D:\\다운로드\\dataset\\Keras\\train_dataset_url',\r\n",
    "                                           origin=train_dataset_url)\r\n",
    "\r\n",
    "print(\"데이터셋이 복사된 위치: {}\".format(train_dataset_fp))"
   ],
   "outputs": [
    {
     "output_type": "stream",
     "name": "stdout",
     "text": [
      "데이터셋이 복사된 위치: D:\\다운로드\\dataset\\Keras\\train_dataset_url\n"
     ]
    }
   ],
   "metadata": {}
  },
  {
   "cell_type": "code",
   "execution_count": 40,
   "source": [
    "# CSV 파일안에서 컬럼의 순서\r\n",
    "column_names = ['sepal_length', 'sepal_width', 'petal_length', 'petal_width', 'species']\r\n",
    "\r\n",
    "feature_names = column_names[:-1]\r\n",
    "label_name = column_names[-1]\r\n",
    "\r\n",
    "print(\"feature: {}\".format(feature_names))\r\n",
    "print(\"label: {}\".format(label_name))"
   ],
   "outputs": [
    {
     "output_type": "stream",
     "name": "stdout",
     "text": [
      "feature: ['sepal_length', 'sepal_width', 'petal_length', 'petal_width']\n",
      "label: species\n"
     ]
    }
   ],
   "metadata": {}
  },
  {
   "cell_type": "code",
   "execution_count": 41,
   "source": [
    "class_names = ['Iris setosa', 'Iris versicolor', 'Iris virginica']\r\n",
    "# mapping 0:setosa, 1:versicolor, 2:virginica"
   ],
   "outputs": [],
   "metadata": {}
  },
  {
   "cell_type": "code",
   "execution_count": 42,
   "source": [
    "# create tf.data.Dataset \r\n",
    "\r\n",
    "batch_size = 32\r\n",
    "\r\n",
    "train_dataset = tf.data.experimental.make_csv_dataset(\r\n",
    "    train_dataset_fp,\r\n",
    "    batch_size,\r\n",
    "    column_names=column_names,\r\n",
    "    label_name=label_name,\r\n",
    "    num_epochs=1)"
   ],
   "outputs": [],
   "metadata": {}
  },
  {
   "cell_type": "code",
   "execution_count": 43,
   "source": [
    "features, labels = next(iter(train_dataset))\r\n",
    "\r\n",
    "print(features)"
   ],
   "outputs": [
    {
     "output_type": "stream",
     "name": "stdout",
     "text": [
      "OrderedDict([('sepal_length', <tf.Tensor: shape=(32,), dtype=float32, numpy=\n",
      "array([6. , 7.2, 6.1, 5.7, 5.8, 5.5, 4.4, 6.2, 6.7, 6.7, 4.6, 7.2, 5.1,\n",
      "       6.4, 5.5, 5.7, 5.4, 6.1, 5. , 5.1, 5. , 6. , 5. , 4.9, 6.4, 6.3,\n",
      "       6.4, 6.5, 6. , 6.1, 5.2, 5.1], dtype=float32)>), ('sepal_width', <tf.Tensor: shape=(32,), dtype=float32, numpy=\n",
      "array([2.7, 3. , 2.8, 4.4, 2.7, 3.5, 3. , 2.2, 3.1, 3. , 3.6, 3.2, 3.7,\n",
      "       3.1, 2.4, 2.8, 3.7, 2.8, 3. , 3.8, 3.3, 3. , 2.3, 3.1, 2.7, 3.3,\n",
      "       3.2, 3. , 2.2, 3. , 3.4, 3.5], dtype=float32)>), ('petal_length', <tf.Tensor: shape=(32,), dtype=float32, numpy=\n",
      "array([5.1, 5.8, 4.7, 1.5, 4.1, 1.3, 1.3, 4.5, 4.4, 5. , 1. , 6. , 1.5,\n",
      "       5.5, 3.8, 4.1, 1.5, 4. , 1.6, 1.6, 1.4, 4.8, 3.3, 1.5, 5.3, 6. ,\n",
      "       4.5, 5.5, 5. , 4.9, 1.4, 1.4], dtype=float32)>), ('petal_width', <tf.Tensor: shape=(32,), dtype=float32, numpy=\n",
      "array([1.6, 1.6, 1.2, 0.4, 1. , 0.2, 0.2, 1.5, 1.4, 1.7, 0.2, 1.8, 0.4,\n",
      "       1.8, 1.1, 1.3, 0.2, 1.3, 0.2, 0.2, 0.2, 1.8, 1. , 0.1, 1.9, 2.5,\n",
      "       1.5, 1.8, 1.5, 1.8, 0.2, 0.3], dtype=float32)>)])\n"
     ]
    }
   ],
   "metadata": {}
  },
  {
   "cell_type": "code",
   "execution_count": 44,
   "source": [
    "import matplotlib.pyplot as plt\r\n",
    "\r\n",
    "plt.scatter(features['petal_length'],\r\n",
    "            features['sepal_length'],\r\n",
    "            c=labels,\r\n",
    "            cmap='viridis')\r\n",
    "\r\n",
    "plt.xlabel(\"Petal length\")\r\n",
    "plt.ylabel(\"Sepal length\")\r\n",
    "plt.show()"
   ],
   "outputs": [
    {
     "output_type": "display_data",
     "data": {
      "text/plain": [
       "<Figure size 432x288 with 1 Axes>"
      ],
      "image/png": "[encoded data removed]"
     },
     "metadata": {
      "needs_background": "light"
     }
    }
   ],
   "metadata": {}
  },
  {
   "cell_type": "code",
   "execution_count": 45,
   "source": [
    "def pack_features_vector(features, labels):\r\n",
    "  # 특성들을 단일 배열로 묶는다.\r\n",
    "  features = tf.stack(list(features.values()), axis=1)\r\n",
    "  return features, labels"
   ],
   "outputs": [],
   "metadata": {}
  },
  {
   "cell_type": "code",
   "execution_count": 46,
   "source": [
    "train_dataset = train_dataset.map(pack_features_vector) \r\n",
    "# (feature, label)쌍의 특성을 훈련 데이터 세트에 쌓아준다. "
   ],
   "outputs": [],
   "metadata": {}
  },
  {
   "cell_type": "code",
   "execution_count": 47,
   "source": [
    "features, labels = next(iter(train_dataset))\r\n",
    "\r\n",
    "print(features[:5])"
   ],
   "outputs": [
    {
     "output_type": "stream",
     "name": "stdout",
     "text": [
      "tf.Tensor(\n",
      "[[7.9 3.8 6.4 2. ]\n",
      " [5.8 2.7 5.1 1.9]\n",
      " [6.7 3.1 5.6 2.4]\n",
      " [5.7 2.8 4.5 1.3]\n",
      " [6.8 2.8 4.8 1.4]], shape=(5, 4), dtype=float32)\n"
     ]
    }
   ],
   "metadata": {}
  },
  {
   "cell_type": "code",
   "execution_count": 48,
   "source": [
    "model = tf.keras.Sequential([\r\n",
    "  tf.keras.layers.Dense(10, activation=tf.nn.relu, input_shape=(4,)),  \r\n",
    "  tf.keras.layers.Dense(10, activation=tf.nn.relu),\r\n",
    "  tf.keras.layers.Dense(3)\r\n",
    "])"
   ],
   "outputs": [],
   "metadata": {}
  },
  {
   "cell_type": "code",
   "execution_count": 49,
   "source": [
    "predictions = model(features)\r\n",
    "predictions[:5]"
   ],
   "outputs": [
    {
     "output_type": "execute_result",
     "data": {
      "text/plain": [
       "<tf.Tensor: shape=(5, 3), dtype=float32, numpy=\n",
       "array([[0., 0., 0.],\n",
       "       [0., 0., 0.],\n",
       "       [0., 0., 0.],\n",
       "       [0., 0., 0.],\n",
       "       [0., 0., 0.]], dtype=float32)>"
      ]
     },
     "metadata": {},
     "execution_count": 49
    }
   ],
   "metadata": {}
  },
  {
   "cell_type": "code",
   "execution_count": 50,
   "source": [
    "tf.nn.softmax(predictions[:5])"
   ],
   "outputs": [
    {
     "output_type": "execute_result",
     "data": {
      "text/plain": [
       "<tf.Tensor: shape=(5, 3), dtype=float32, numpy=\n",
       "array([[0.33333334, 0.33333334, 0.33333334],\n",
       "       [0.33333334, 0.33333334, 0.33333334],\n",
       "       [0.33333334, 0.33333334, 0.33333334],\n",
       "       [0.33333334, 0.33333334, 0.33333334],\n",
       "       [0.33333334, 0.33333334, 0.33333334]], dtype=float32)>"
      ]
     },
     "metadata": {},
     "execution_count": 50
    }
   ],
   "metadata": {}
  },
  {
   "cell_type": "code",
   "execution_count": 51,
   "source": [
    "print(\"prediction: {}\".format(tf.argmax(predictions, axis=1)))\r\n",
    "print(\"label: {}\".format(labels))"
   ],
   "outputs": [
    {
     "output_type": "stream",
     "name": "stdout",
     "text": [
      "prediction: [0 0 0 0 0 0 0 0 0 0 0 0 0 0 0 0 0 0 0 0 0 0 0 0 0 0 0 0 0 0 0 0]\n",
      "label: [2 2 2 1 1 1 2 0 0 0 1 0 1 1 0 2 2 0 1 0 1 1 2 1 0 0 0 0 0 0 0 2]\n"
     ]
    }
   ],
   "metadata": {}
  },
  {
   "cell_type": "code",
   "execution_count": 52,
   "source": [
    "loss_object = tf.keras.losses.SparseCategoricalCrossentropy(from_logits=True)"
   ],
   "outputs": [],
   "metadata": {}
  },
  {
   "cell_type": "code",
   "execution_count": 53,
   "source": [
    "def loss(model, x, y):\r\n",
    "  y_ = model(x)\r\n",
    "\r\n",
    "  return loss_object(y_true=y, y_pred=y_)\r\n",
    "\r\n",
    "\r\n",
    "l = loss(model, features, labels)\r\n",
    "print(\"loss test: {}\".format(l))"
   ],
   "outputs": [
    {
     "output_type": "stream",
     "name": "stdout",
     "text": [
      "loss test: 1.0986123085021973\n"
     ]
    }
   ],
   "metadata": {}
  },
  {
   "cell_type": "code",
   "execution_count": 54,
   "source": [
    "def grad(model, inputs, targets):\r\n",
    "  with tf.GradientTape() as tape:\r\n",
    "    loss_value = loss(model, inputs, targets)\r\n",
    "  return loss_value, tape.gradient(loss_value, model.trainable_variables)"
   ],
   "outputs": [],
   "metadata": {}
  },
  {
   "cell_type": "markdown",
   "source": [
    "Optimizer는 손실 함수를 최소화하기 위해 계산된 그래디언트를 모델의 변수에 적용해서 모델을 최적화한다. "
   ],
   "metadata": {}
  },
  {
   "cell_type": "code",
   "execution_count": 55,
   "source": [
    "# SGD를 구현한 tf.train.GradientDescentOptimizer를 사용한다. \r\n",
    "optimizer = tf.keras.optimizers.Adam(learning_rate=0.01)"
   ],
   "outputs": [],
   "metadata": {}
  },
  {
   "cell_type": "code",
   "execution_count": 56,
   "source": [
    "loss_value, grads = grad(model, features, labels)\r\n",
    "\r\n",
    "print(\"step: {}, loss: {}\".format(optimizer.iterations.numpy(),\r\n",
    "                                          loss_value.numpy()))\r\n",
    "\r\n",
    "optimizer.apply_gradients(zip(grads, model.trainable_variables))\r\n",
    "\r\n",
    "print(\"step: {}, loss: {}\".format(optimizer.iterations.numpy(),\r\n",
    "                                          loss(model, features, labels).numpy()))"
   ],
   "outputs": [
    {
     "output_type": "stream",
     "name": "stdout",
     "text": [
      "step: 0, loss: 1.0986123085021973\n",
      "step: 1, loss: 1.0965735912322998\n"
     ]
    }
   ],
   "metadata": {}
  },
  {
   "cell_type": "code",
   "execution_count": 57,
   "source": [
    "# 도식화를 위해 결과를 저장\r\n",
    "train_loss_results = []\r\n",
    "train_accuracy_results = []\r\n",
    "\r\n",
    "num_epochs = 201\r\n",
    "\r\n",
    "for epoch in range(num_epochs):\r\n",
    "  epoch_loss_avg = tf.keras.metrics.Mean()\r\n",
    "  epoch_accuracy = tf.keras.metrics.SparseCategoricalAccuracy()\r\n",
    "\r\n",
    "  # 훈련 루프 - 32개의 배치를 사용\r\n",
    "  for x, y in train_dataset:\r\n",
    "    # 모델을 최적화\r\n",
    "    loss_value, grads = grad(model, x, y)\r\n",
    "    optimizer.apply_gradients(zip(grads, model.trainable_variables))\r\n",
    "\r\n",
    "    epoch_loss_avg(loss_value)  # 현재 배치 손실을 추가\r\n",
    "    # 예측된 레이블과 실제 레이블 비교\r\n",
    "    epoch_accuracy(y, model(x))\r\n",
    "\r\n",
    "  # epoch 종료\r\n",
    "  train_loss_results.append(epoch_loss_avg.result())\r\n",
    "  train_accuracy_results.append(epoch_accuracy.result())\r\n",
    "\r\n",
    "  if epoch % 50 == 0:\r\n",
    "    print(\"epoch {:03d}: loss: {:.3f}, accuracy: {:.3%}\".format(epoch,\r\n",
    "                                                                epoch_loss_avg.result(),\r\n",
    "                                                                epoch_accuracy.result()))"
   ],
   "outputs": [
    {
     "output_type": "stream",
     "name": "stdout",
     "text": [
      "epoch 000: loss: 1.099, accuracy: 35.000%\n",
      "epoch 050: loss: 1.095, accuracy: 35.000%\n",
      "epoch 100: loss: 1.095, accuracy: 35.000%\n",
      "epoch 150: loss: 1.095, accuracy: 35.000%\n",
      "epoch 200: loss: 1.096, accuracy: 35.000%\n"
     ]
    }
   ],
   "metadata": {}
  },
  {
   "cell_type": "markdown",
   "source": [
    "## 손실함수 시각화"
   ],
   "metadata": {}
  },
  {
   "cell_type": "code",
   "execution_count": 58,
   "source": [
    "fig, axes = plt.subplots(2, sharex=True, figsize=(12, 8))\r\n",
    "fig.suptitle('training Indicators')\r\n",
    "\r\n",
    "axes[0].set_ylabel(\"loss\", fontsize=14)\r\n",
    "axes[0].plot(train_loss_results)\r\n",
    "\r\n",
    "axes[1].set_ylabel(\"accuracy\", fontsize=14)\r\n",
    "axes[1].set_xlabel(\"epoch\", fontsize=14)\r\n",
    "axes[1].plot(train_accuracy_results)\r\n",
    "plt.show()"
   ],
   "outputs": [
    {
     "output_type": "display_data",
     "data": {
      "text/plain": [
       "<Figure size 864x576 with 2 Axes>"
      ],
      "image/png": "[encoded data removed]"
     },
     "metadata": {
      "needs_background": "light"
     }
    }
   ],
   "metadata": {}
  },
  {
   "cell_type": "markdown",
   "source": [
    "## 테스트 세트"
   ],
   "metadata": {}
  },
  {
   "cell_type": "code",
   "execution_count": 60,
   "source": [
    "# 테스트 세트 설정\r\n",
    "\r\n",
    "test_url = \"https://storage.googleapis.com/download.tensorflow.org/data/iris_test.csv\"\r\n",
    "\r\n",
    "test_fp = tf.keras.utils.get_file(fname=r'D:\\다운로드\\dataset\\Keras\\test_url',\r\n",
    "                                  origin=test_url)"
   ],
   "outputs": [
    {
     "output_type": "stream",
     "name": "stdout",
     "text": [
      "Downloading data from https://storage.googleapis.com/download.tensorflow.org/data/iris_test.csv\n",
      "8192/573 [============================================================================================================================================================================================================================================================================================================================================================================================================================================] - 0s 0us/step\n"
     ]
    }
   ],
   "metadata": {}
  },
  {
   "cell_type": "code",
   "execution_count": 61,
   "source": [
    "test_dataset = tf.data.experimental.make_csv_dataset(\r\n",
    "    test_fp,\r\n",
    "    batch_size,\r\n",
    "    column_names=column_names,\r\n",
    "    label_name='species',\r\n",
    "    num_epochs=1,\r\n",
    "    shuffle=False)\r\n",
    "\r\n",
    "test_dataset = test_dataset.map(pack_features_vector)"
   ],
   "outputs": [],
   "metadata": {}
  },
  {
   "cell_type": "code",
   "execution_count": 62,
   "source": [
    "# 테스트 세트를 사용해 모델 평가\r\n",
    "# 오직 한번의 에포크를 진행한다. \r\n",
    "\r\n",
    "test_accuracy = tf.keras.metrics.Accuracy()\r\n",
    "\r\n",
    "for (x, y) in test_dataset:\r\n",
    "  logits = model(x)\r\n",
    "  prediction = tf.argmax(logits, axis=1, output_type=tf.int32)\r\n",
    "  test_accuracy(prediction, y)\r\n",
    "\r\n",
    "print(\"test set accuracy: {:.3%}\".format(test_accuracy.result()))"
   ],
   "outputs": [
    {
     "output_type": "stream",
     "name": "stdout",
     "text": [
      "test set accuracy: 26.667%\n"
     ]
    }
   ],
   "metadata": {}
  },
  {
   "cell_type": "code",
   "execution_count": 63,
   "source": [
    "tf.stack([y,prediction],axis=1)"
   ],
   "outputs": [
    {
     "output_type": "execute_result",
     "data": {
      "text/plain": [
       "<tf.Tensor: shape=(30, 2), dtype=int32, numpy=\n",
       "array([[1, 0],\n",
       "       [2, 0],\n",
       "       [0, 0],\n",
       "       [1, 0],\n",
       "       [1, 0],\n",
       "       [1, 0],\n",
       "       [0, 0],\n",
       "       [2, 0],\n",
       "       [1, 0],\n",
       "       [2, 0],\n",
       "       [2, 0],\n",
       "       [0, 0],\n",
       "       [2, 0],\n",
       "       [1, 0],\n",
       "       [1, 0],\n",
       "       [0, 0],\n",
       "       [1, 0],\n",
       "       [0, 0],\n",
       "       [0, 0],\n",
       "       [2, 0],\n",
       "       [0, 0],\n",
       "       [1, 0],\n",
       "       [2, 0],\n",
       "       [1, 0],\n",
       "       [1, 0],\n",
       "       [1, 0],\n",
       "       [0, 0],\n",
       "       [1, 0],\n",
       "       [2, 0],\n",
       "       [1, 0]])>"
      ]
     },
     "metadata": {},
     "execution_count": 63
    }
   ],
   "metadata": {}
  },
  {
   "cell_type": "markdown",
   "source": [
    "## 예측하기"
   ],
   "metadata": {}
  },
  {
   "cell_type": "code",
   "execution_count": 64,
   "source": [
    "predict_dataset = tf.convert_to_tensor([\r\n",
    "    [5.1, 3.3, 1.7, 0.5,],\r\n",
    "    [5.9, 3.0, 4.2, 1.5,],\r\n",
    "    [6.9, 3.1, 5.4, 2.1]\r\n",
    "])\r\n",
    "\r\n",
    "predictions = model(predict_dataset)\r\n",
    "\r\n",
    "for i, logits in enumerate(predictions):\r\n",
    "  class_idx = tf.argmax(logits).numpy()\r\n",
    "  p = tf.nn.softmax(logits)[class_idx]\r\n",
    "  name = class_names[class_idx]\r\n",
    "  print(\"sample {} prediction: {} ({:4.1f}%)\".format(i, name, 100*p))"
   ],
   "outputs": [
    {
     "output_type": "stream",
     "name": "stdout",
     "text": [
      "sample 0 prediction: Iris setosa (35.1%)\n",
      "sample 1 prediction: Iris setosa (35.1%)\n",
      "sample 2 prediction: Iris setosa (35.1%)\n"
     ]
    }
   ],
   "metadata": {}
  },
  {
   "cell_type": "markdown",
   "source": [],
   "metadata": {}
  }
 ],
 "metadata": {
  "orig_nbformat": 4,
  "language_info": {
   "name": "python",
   "version": "3.9.6",
   "mimetype": "text/x-python",
   "codemirror_mode": {
    "name": "ipython",
    "version": 3
   },
   "pygments_lexer": "ipython3",
   "nbconvert_exporter": "python",
   "file_extension": ".py"
  },
  "kernelspec": {
   "name": "python3",
   "display_name": "Python 3.9.6 64-bit ('tf-K1gCNad0': pipenv)"
  },
  "interpreter": {
   "hash": "762568b60ff02034ad30f76ec13eabb79a0decfbc2d9faa7bfbe9062055c30a3"
  }
 },
 "nbformat": 4,
 "nbformat_minor": 2
}