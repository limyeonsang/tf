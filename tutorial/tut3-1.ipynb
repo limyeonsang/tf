{
 "cells": [
  {
   "cell_type": "markdown",
   "source": [
    "# Tensor and operations"
   ],
   "metadata": {}
  },
  {
   "cell_type": "code",
   "execution_count": 2,
   "source": [
    "import tensorflow as tf\r\n",
    "import numpy as np"
   ],
   "outputs": [],
   "metadata": {}
  },
  {
   "cell_type": "code",
   "execution_count": 3,
   "source": [
    "ndarray = np.ones([3, 3])\r\n",
    "\r\n",
    "print(\"텐서플로 연산은 자동적으로 넘파이 배열을 텐서로 변환합니다.\")\r\n",
    "tensor = tf.multiply(ndarray, 42)\r\n",
    "print(tensor)\r\n",
    "\r\n",
    "\r\n",
    "print(\"그리고 넘파이 연산은 자동적으로 텐서를 넘파이 배열로 변환합니다.\")\r\n",
    "print(np.add(tensor, 1))\r\n",
    "\r\n",
    "print(\".numpy() 메서드는 텐서를 넘파이 배열로 변환합니다.\")\r\n",
    "print(tensor.numpy())"
   ],
   "outputs": [
    {
     "output_type": "stream",
     "name": "stdout",
     "text": [
      "텐서플로 연산은 자동적으로 넘파이 배열을 텐서로 변환합니다.\n",
      "tf.Tensor(\n",
      "[[42. 42. 42.]\n",
      " [42. 42. 42.]\n",
      " [42. 42. 42.]], shape=(3, 3), dtype=float64)\n",
      "그리고 넘파이 연산은 자동적으로 텐서를 넘파이 배열로 변환합니다.\n",
      "[[43. 43. 43.]\n",
      " [43. 43. 43.]\n",
      " [43. 43. 43.]]\n",
      ".numpy() 메서드는 텐서를 넘파이 배열로 변환합니다.\n",
      "[[42. 42. 42.]\n",
      " [42. 42. 42.]\n",
      " [42. 42. 42.]]\n"
     ]
    }
   ],
   "metadata": {}
  },
  {
   "cell_type": "code",
   "execution_count": 4,
   "source": [
    "x = tf.random.uniform([3, 3])\r\n",
    "\r\n",
    "print(\"GPU 사용이 가능한가 : \"),\r\n",
    "print(tf.test.is_gpu_available())\r\n",
    "\r\n",
    "print(\"텐서가 GPU #0에 있는가 : \"),\r\n",
    "print(x.device.endswith('GPU:0'))"
   ],
   "outputs": [
    {
     "output_type": "stream",
     "name": "stdout",
     "text": [
      "GPU 사용이 가능한가 : \n",
      "WARNING:tensorflow:From C:\\Users\\82109\\AppData\\Local\\Temp/ipykernel_16148/3113281892.py:4: is_gpu_available (from tensorflow.python.framework.test_util) is deprecated and will be removed in a future version.\n",
      "Instructions for updating:\n",
      "Use `tf.config.list_physical_devices('GPU')` instead.\n",
      "False\n",
      "텐서가 GPU #0에 있는가 : \n",
      "False\n"
     ]
    }
   ],
   "metadata": {}
  },
  {
   "cell_type": "code",
   "execution_count": 6,
   "source": [
    "# 명시적 자래 배치(replacement)\r\n",
    "import time\r\n",
    "\r\n",
    "def time_matmul(x):\r\n",
    "  start = time.time()\r\n",
    "  for loop in range(10):\r\n",
    "    tf.matmul(x, x)\r\n",
    "\r\n",
    "  result = time.time()-start\r\n",
    "\r\n",
    "  print(\"10 loops: {:0.2f}ms\".format(1000*result))\r\n",
    "\r\n",
    "# CPU에서 강제 실행합니다.\r\n",
    "print(\"On CPU:\")\r\n",
    "with tf.device(\"CPU:0\"):\r\n",
    "  x = tf.random.uniform([1000, 1000])\r\n",
    "  assert x.device.endswith(\"CPU:0\")\r\n",
    "  time_matmul(x)\r\n",
    "\r\n",
    "# GPU #0가 이용가능시 GPU #0에서 강제 실행합니다.\r\n",
    "if tf.test.is_gpu_available():\r\n",
    "  print(\"On GPU:\")\r\n",
    "  with tf.device(\"GPU:0\"): # Or GPU:1 for the 2nd GPU, GPU:2 for the 3rd etc.\r\n",
    "    x = tf.random.uniform([1000, 1000])\r\n",
    "    assert x.device.endswith(\"GPU:0\")\r\n",
    "    time_matmul(x)"
   ],
   "outputs": [
    {
     "output_type": "stream",
     "name": "stdout",
     "text": [
      "On CPU:\n",
      "10 loops: 176.94ms\n"
     ]
    }
   ],
   "metadata": {}
  },
  {
   "cell_type": "markdown",
   "source": [
    "## Dataset\r\n"
   ],
   "metadata": {}
  },
  {
   "cell_type": "code",
   "execution_count": 11,
   "source": [
    "# tf.data.Dataset API\r\n",
    "\r\n",
    "ds_tensors = tf.data.Dataset.from_tensor_slices([1, 2, 3, 4, 5, 6])\r\n",
    "\r\n",
    "# CSV 파일을 생성합니다.\r\n",
    "import tempfile\r\n",
    "_, filename = tempfile.mkstemp()\r\n",
    "\r\n",
    "with open(filename, 'w') as f:\r\n",
    "  f.write(\"\"\"Line 1\r\n",
    "Line 2\r\n",
    "Line 3\r\n",
    "  \"\"\")\r\n",
    "\r\n",
    "ds_file = tf.data.TextLineDataset(filename)"
   ],
   "outputs": [],
   "metadata": {}
  },
  {
   "cell_type": "code",
   "execution_count": 15,
   "source": [
    "# 변환 적용\r\n",
    "\r\n",
    "ds_tensors = ds_tensors.map(tf.square).shuffle(2).batch(2)\r\n",
    "\r\n",
    "ds_file = ds_file.batch(2)"
   ],
   "outputs": [],
   "metadata": {}
  },
  {
   "cell_type": "code",
   "execution_count": 17,
   "source": [
    "# 반복\r\n",
    "\r\n",
    "print('ds_tensors\\'s Elements:')\r\n",
    "for x in ds_tensors:\r\n",
    "  print(x)\r\n",
    "\r\n",
    "print('\\nds_file\\'s Elements:')\r\n",
    "for x in ds_file:\r\n",
    "  print(x)"
   ],
   "outputs": [
    {
     "output_type": "stream",
     "name": "stdout",
     "text": [
      "ds_tensors's Elements:\n",
      "tf.Tensor([1 9], shape=(2,), dtype=int32)\n",
      "tf.Tensor([ 4 25], shape=(2,), dtype=int32)\n",
      "tf.Tensor([36 16], shape=(2,), dtype=int32)\n",
      "\n",
      "ds_file's Elements:\n",
      "tf.Tensor([b'Line 1' b'Line 2'], shape=(2,), dtype=string)\n",
      "tf.Tensor([b'Line 3' b'  '], shape=(2,), dtype=string)\n"
     ]
    }
   ],
   "metadata": {}
  },
  {
   "cell_type": "code",
   "execution_count": null,
   "source": [],
   "outputs": [],
   "metadata": {}
  }
 ],
 "metadata": {
  "orig_nbformat": 4,
  "language_info": {
   "name": "python",
   "version": "3.9.6",
   "mimetype": "text/x-python",
   "codemirror_mode": {
    "name": "ipython",
    "version": 3
   },
   "pygments_lexer": "ipython3",
   "nbconvert_exporter": "python",
   "file_extension": ".py"
  },
  "kernelspec": {
   "name": "python3",
   "display_name": "Python 3.9.6 64-bit ('tf-K1gCNad0': pipenv)"
  },
  "interpreter": {
   "hash": "762568b60ff02034ad30f76ec13eabb79a0decfbc2d9faa7bfbe9062055c30a3"
  }
 },
 "nbformat": 4,
 "nbformat_minor": 2
}