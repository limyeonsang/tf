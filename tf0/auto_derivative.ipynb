{
 "cells": [
  {
   "cell_type": "code",
   "execution_count": 2,
   "source": [
    "import tensorflow as tf"
   ],
   "outputs": [],
   "metadata": {}
  },
  {
   "cell_type": "code",
   "execution_count": 3,
   "source": [
    "x = tf.ones((2,2))\r\n",
    "\r\n",
    "with tf.GradientTape() as t:\r\n",
    "  t.watch(x)\r\n",
    "  y = tf.reduce_sum(x)\r\n",
    "  z = tf.multiply(y,y)\r\n",
    "\r\n",
    "  dz_dx = t.gradient(z,x)\r\n",
    "  for i in [0, 1]:\r\n",
    "    for j in [0, 1]:\r\n",
    "      assert dz_dx[i][j].numpy() == 8.0"
   ],
   "outputs": [],
   "metadata": {}
  },
  {
   "cell_type": "code",
   "execution_count": 4,
   "source": [
    "x = tf.ones((2, 2))\r\n",
    "\r\n",
    "with tf.GradientTape() as t:\r\n",
    "  t.watch(x)\r\n",
    "  y = tf.reduce_sum(x)\r\n",
    "  z = tf.multiply(y, y)\r\n",
    "\r\n",
    "dz_dy = t.gradient(z, y)\r\n",
    "assert dz_dy.numpy() == 8.0"
   ],
   "outputs": [],
   "metadata": {}
  },
  {
   "cell_type": "markdown",
   "source": [
    "GradientTape.gradient() 메서드 호출시 GradientTape에 포함된 리소스가 해제된다. "
   ],
   "metadata": {}
  },
  {
   "cell_type": "code",
   "execution_count": 5,
   "source": [
    "x = tf.constant(3.0)\r\n",
    "with tf.GradientTape(persistent=True) as t:\r\n",
    "  t.watch(x)\r\n",
    "  y = x * x\r\n",
    "  z = y * y\r\n",
    "dz_dx = t.gradient(z, x)  # 108.0 (4*x^3 at x = 3)\r\n",
    "dy_dx = t.gradient(y, x)  # 6.0\r\n",
    "del t  # 테이프에 대한 참조 삭제"
   ],
   "outputs": [],
   "metadata": {}
  },
  {
   "cell_type": "code",
   "execution_count": 6,
   "source": [
    "# 고계도 그래디언트\r\n",
    "\r\n",
    "x = tf.Variable(1.0)  # 1.0으로 초기화된 텐서플로 변수를 생성합니다.\r\n",
    "\r\n",
    "with tf.GradientTape() as t:\r\n",
    "  with tf.GradientTape() as t2:\r\n",
    "    y = x * x * x\r\n",
    "  # 't' 컨텍스트 매니저 안의 그래디언트를 계산한다.\r\n",
    "  # 그래디언트 연산 자체도 미분가능하다는 것을 의미한다. \r\n",
    "  dy_dx = t2.gradient(y, x)\r\n",
    "d2y_dx2 = t.gradient(dy_dx, x)\r\n",
    "\r\n",
    "assert dy_dx.numpy() == 3.0\r\n",
    "assert d2y_dx2.numpy() == 6.0"
   ],
   "outputs": [],
   "metadata": {}
  }
 ],
 "metadata": {
  "orig_nbformat": 4,
  "language_info": {
   "name": "python",
   "version": "3.9.6",
   "mimetype": "text/x-python",
   "codemirror_mode": {
    "name": "ipython",
    "version": 3
   },
   "pygments_lexer": "ipython3",
   "nbconvert_exporter": "python",
   "file_extension": ".py"
  },
  "kernelspec": {
   "name": "python3",
   "display_name": "Python 3.9.6 64-bit ('tf-K1gCNad0': pipenv)"
  },
  "interpreter": {
   "hash": "762568b60ff02034ad30f76ec13eabb79a0decfbc2d9faa7bfbe9062055c30a3"
  }
 },
 "nbformat": 4,
 "nbformat_minor": 2
}