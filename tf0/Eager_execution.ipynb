{
 "cells": [
  {
   "cell_type": "code",
   "execution_count": 7,
   "source": [
    "import tensorflow as tf\r\n",
    "import cProfile\r\n",
    "import numpy as np"
   ],
   "outputs": [],
   "metadata": {}
  },
  {
   "cell_type": "code",
   "execution_count": 4,
   "source": [
    "tf.executing_eagerly()"
   ],
   "outputs": [
    {
     "output_type": "execute_result",
     "data": {
      "text/plain": [
       "True"
      ]
     },
     "metadata": {},
     "execution_count": 4
    }
   ],
   "metadata": {}
  },
  {
   "cell_type": "code",
   "execution_count": 5,
   "source": [
    "x = [[2.]]\r\n",
    "m = tf.matmul(x,x)\r\n",
    "print(m)"
   ],
   "outputs": [
    {
     "output_type": "stream",
     "name": "stdout",
     "text": [
      "tf.Tensor([[4.]], shape=(1, 1), dtype=float32)\n"
     ]
    }
   ],
   "metadata": {}
  },
  {
   "cell_type": "code",
   "execution_count": 18,
   "source": [
    "a = tf.constant([[1,2], [3,4]])\r\n",
    "print(a)\r\n",
    "\r\n",
    "print('\\n', a.numpy())\r\n",
    "\r\n",
    "b = tf.add(a,1)\r\n",
    "print('\\n', b)"
   ],
   "outputs": [
    {
     "output_type": "stream",
     "name": "stdout",
     "text": [
      "tf.Tensor(\n",
      "[[1 2]\n",
      " [3 4]], shape=(2, 2), dtype=int32)\n",
      "\n",
      " [[1 2]\n",
      " [3 4]]\n",
      "\n",
      " tf.Tensor(\n",
      "[[2 3]\n",
      " [4 5]], shape=(2, 2), dtype=int32)\n"
     ]
    }
   ],
   "metadata": {}
  },
  {
   "cell_type": "code",
   "execution_count": 15,
   "source": [
    "print(a*b)\r\n",
    "print(np.multiply(a,b))\r\n",
    "print(tf.multiply(a,b))"
   ],
   "outputs": [
    {
     "output_type": "stream",
     "name": "stdout",
     "text": [
      "tf.Tensor(\n",
      "[[ 2  6]\n",
      " [12 20]], shape=(2, 2), dtype=int32)\n",
      "[[ 2  6]\n",
      " [12 20]]\n",
      "tf.Tensor(\n",
      "[[ 2  6]\n",
      " [12 20]], shape=(2, 2), dtype=int32)\n"
     ]
    }
   ],
   "metadata": {}
  },
  {
   "cell_type": "code",
   "execution_count": 22,
   "source": [
    "def fizzbuzz(max_num):\r\n",
    "  counter = tf.constant(0)\r\n",
    "  max_num = tf.convert_to_tensor(max_num)\r\n",
    "  for num in range(1, max_num.numpy()+1):\r\n",
    "    num = tf.constant(num)\r\n",
    "    if int(num % 3) == 0 and int(num % 5) == 0:\r\n",
    "      print('FizzBuzz')\r\n",
    "    elif int(num % 3) == 0:\r\n",
    "      print('Fizz')\r\n",
    "    elif int(num % 5) == 0:\r\n",
    "      print('Buzz')\r\n",
    "    else:\r\n",
    "      print(num.numpy())\r\n",
    "    counter += 1\r\n",
    "\r\n",
    "fizzbuzz(15)"
   ],
   "outputs": [
    {
     "output_type": "stream",
     "name": "stdout",
     "text": [
      "1\n",
      "2\n",
      "Fizz\n",
      "4\n",
      "Buzz\n",
      "Fizz\n",
      "7\n",
      "8\n",
      "Fizz\n",
      "Buzz\n",
      "11\n",
      "Fizz\n",
      "13\n",
      "14\n",
      "FizzBuzz\n"
     ]
    }
   ],
   "metadata": {}
  },
  {
   "cell_type": "markdown",
   "source": [
    "## Gradient"
   ],
   "metadata": {}
  },
  {
   "cell_type": "code",
   "execution_count": 26,
   "source": [
    "w = tf.Variable([[1.0]])\r\n",
    "with tf.GradientTape() as tape: #tape에 정방향 연산 기록\r\n",
    "  loss = w*w\r\n",
    "\r\n",
    "grad = tape.gradient(loss, w)\r\n",
    "print(grad)"
   ],
   "outputs": [
    {
     "output_type": "stream",
     "name": "stdout",
     "text": [
      "tf.Tensor([[2.]], shape=(1, 1), dtype=float32)\n"
     ]
    }
   ],
   "metadata": {}
  },
  {
   "cell_type": "markdown",
   "source": [
    "## Model training"
   ],
   "metadata": {}
  },
  {
   "cell_type": "code",
   "execution_count": 25,
   "source": [
    "(mnist_images, mnist_labels), _ = tf.keras.datasets.mnist.load_data()\r\n",
    "\r\n",
    "dataset = tf.data.Dataset.from_tensor_slices(\r\n",
    "  (tf.cast(mnist_images[...,tf.`newaxis`]/255, tf.float32),\r\n",
    "   tf.cast(mnist_labels,tf.int64)))\r\n",
    "dataset = dataset.shuffle(1000).batch(32)"
   ],
   "outputs": [
    {
     "output_type": "stream",
     "name": "stdout",
     "text": [
      "Downloading data from https://storage.googleapis.com/tensorflow/tf-keras-datasets/mnist.npz\n",
      "11493376/11490434 [==============================] - 1s 0us/step\n"
     ]
    }
   ],
   "metadata": {}
  },
  {
   "cell_type": "code",
   "execution_count": 28,
   "source": [
    "mnist_model = tf.keras.Sequential([\r\n",
    "  tf.keras.layers.Conv2D(16, [3,3], activation='relu', input_shape=(None, None, 1)),\r\n",
    "  tf.keras.layers.Conv2D(16, [3,3], activation='relu'),\r\n",
    "  tf.keras.layers.GlobalAveragePooling2D(),\r\n",
    "  tf.keras.layers.Dense(10)\r\n",
    "\r\n",
    "])"
   ],
   "outputs": [],
   "metadata": {}
  },
  {
   "cell_type": "code",
   "execution_count": 29,
   "source": [
    "# 즉시 실행에서는 훈련 전에 모델을 사용해 결과를 볼 수 있다. \r\n",
    "for images, labels in dataset.take(1):\r\n",
    "  print(mnist_model(images[0:1]).numpy())"
   ],
   "outputs": [
    {
     "output_type": "stream",
     "name": "stdout",
     "text": [
      "[[ 0.04109878  0.03908053 -0.05955648 -0.05716015 -0.05351461 -0.04207106\n",
      "  -0.0372459  -0.01273214  0.0266578   0.00382484]]\n"
     ]
    }
   ],
   "metadata": {}
  },
  {
   "cell_type": "code",
   "execution_count": 30,
   "source": [
    "optimizer = tf.keras.optimizers.Adam()\r\n",
    "loss_object = tf.keras.losses.SparseCategoricalCrossentropy(from_logits=True)\r\n",
    "\r\n",
    "loss_history = []"
   ],
   "outputs": [],
   "metadata": {}
  },
  {
   "cell_type": "code",
   "execution_count": 33,
   "source": [
    "def train_step(images, labels):\r\n",
    "  with tf.GradientTape() as tape:\r\n",
    "    logits = mnist_model(images, training=True)\r\n",
    "    tf.debugging.assert_equal(logits.shape, (32, 10))\r\n",
    "    loss_value = loss_object(labels, logits)\r\n",
    "\r\n",
    "  loss_history.append(loss_value.numpy().mean())\r\n",
    "  grads = tape.gradient(loss_value, mnist_model.trainable_variables)\r\n",
    "  optimizer.apply_gradients(zip(grads, mnist_model.trainable_variables))"
   ],
   "outputs": [],
   "metadata": {}
  },
  {
   "cell_type": "code",
   "execution_count": 34,
   "source": [
    "def train():\r\n",
    "    for epoch in range(3):\r\n",
    "      for(batch, (images, labels)) in enumerate(dataset):\r\n",
    "        train_step(images, labels)\r\n",
    "      print('epoch', epoch, ', end')\r\n",
    "\r\n",
    "train()"
   ],
   "outputs": [
    {
     "output_type": "stream",
     "name": "stdout",
     "text": [
      "epoch 0 , end\n",
      "epoch 1 , end\n",
      "epoch 2 , end\n"
     ]
    }
   ],
   "metadata": {}
  },
  {
   "cell_type": "code",
   "execution_count": 36,
   "source": [
    "import matplotlib.pyplot as plt\r\n",
    "\r\n",
    "plt.plot(loss_history)\r\n",
    "plt.xlabel('batch #')\r\n",
    "plt.ylabel('loss')"
   ],
   "outputs": [
    {
     "output_type": "execute_result",
     "data": {
      "text/plain": [
       "Text(0, 0.5, 'loss')"
      ]
     },
     "metadata": {},
     "execution_count": 36
    },
    {
     "output_type": "display_data",
     "data": {
      "text/plain": [
       "<Figure size 432x288 with 1 Axes>"
      ],
      "image/png": "[encoded data removed]"
     },
     "metadata": {
      "needs_background": "light"
     }
    }
   ],
   "metadata": {}
  },
  {
   "cell_type": "code",
   "execution_count": 37,
   "source": [
    "class Model(tf.keras.Model):\r\n",
    "  def __init__(self):\r\n",
    "    super(Model, self).__init__()\r\n",
    "    self.W = tf.Variable(5., name='weight')\r\n",
    "    self.B = tf.Variable(10., name='bias')\r\n",
    "  def call(self, inputs):\r\n",
    "    return inputs * self.W + self.B"
   ],
   "outputs": [],
   "metadata": {}
  },
  {
   "cell_type": "code",
   "execution_count": 38,
   "source": [
    "NUM_EXAMPLES = 2000\r\n",
    "training_inputs = tf.random.normal([NUM_EXAMPLES])\r\n",
    "noise = tf.random.normal([NUM_EXAMPLES])\r\n",
    "training_outputs = training_inputs * 3 + 2 + noise\r\n",
    "\r\n",
    "def loss(model, inputs, targets):\r\n",
    "  error = model(inputs) - targets\r\n",
    "  return tf.reduce_mean(tf.square(error))\r\n",
    "\r\n",
    "def grad(model, inputs, targets):\r\n",
    "  with tf.GradientTape() as tape:\r\n",
    "    loss_value = loss(model, inputs, targets)\r\n",
    "  return tape.gradient(loss_value, [model.W, model.B])\r\n",
    "\r\n",
    "\r\n",
    "model = Model()\r\n",
    "optimizer = tf.keras.optimizers.SGD(learning_rate=0.01)\r\n",
    "\r\n",
    "print(\"early loss: {:.3f}\".format(loss(model, training_inputs, training_outputs)))\r\n",
    "\r\n",
    "for i in range(300):\r\n",
    "  grads = grad(model, training_inputs, training_outputs)\r\n",
    "  optimizer.apply_gradients(zip(grads, [model.W, model.B]))\r\n",
    "  if i % 20 == 0:\r\n",
    "    print(\"step {:03d} loss: {:.3f}\".format(i, loss(model, training_inputs, training_outputs)))\r\n",
    "\r\n",
    "print(\"total loss: {:.3f}\".format(loss(model, training_inputs, training_outputs)))\r\n",
    "print(\"W = {}, B = {}\".format(model.W.numpy(), model.B.numpy()))"
   ],
   "outputs": [
    {
     "output_type": "stream",
     "name": "stdout",
     "text": [
      "early loss: 70.981\n",
      "step 000 loss: 68.137\n",
      "step 020 loss: 30.294\n",
      "step 040 loss: 13.789\n",
      "step 060 loss: 6.580\n",
      "step 080 loss: 3.428\n",
      "step 100 loss: 2.047\n",
      "step 120 loss: 1.441\n",
      "step 140 loss: 1.175\n",
      "step 160 loss: 1.058\n",
      "step 180 loss: 1.007\n",
      "step 200 loss: 0.984\n",
      "step 220 loss: 0.974\n",
      "step 240 loss: 0.969\n",
      "step 260 loss: 0.967\n",
      "step 280 loss: 0.966\n",
      "total loss: 0.966\n",
      "W = 2.9874134063720703, B = 1.9979201555252075\n"
     ]
    }
   ],
   "metadata": {}
  },
  {
   "cell_type": "code",
   "execution_count": 49,
   "source": [
    "A =  np.array([1,2,3,4,5,6]).reshape(2,3)\r\n",
    "print(A)\r\n",
    "print(np.mean(A), A.mean())\r\n",
    "\r\n",
    "print(tf.reduce_mean(A))"
   ],
   "outputs": [
    {
     "output_type": "stream",
     "name": "stdout",
     "text": [
      "[[1 2 3]\n",
      " [4 5 6]]\n",
      "3.5 3.5\n",
      "tf.Tensor(3, shape=(), dtype=int32)\n"
     ]
    }
   ],
   "metadata": {}
  },
  {
   "cell_type": "code",
   "execution_count": null,
   "source": [],
   "outputs": [],
   "metadata": {}
  }
 ],
 "metadata": {
  "orig_nbformat": 4,
  "language_info": {
   "name": "python",
   "version": "3.9.6",
   "mimetype": "text/x-python",
   "codemirror_mode": {
    "name": "ipython",
    "version": 3
   },
   "pygments_lexer": "ipython3",
   "nbconvert_exporter": "python",
   "file_extension": ".py"
  },
  "kernelspec": {
   "name": "python3",
   "display_name": "Python 3.9.6 64-bit ('tf-K1gCNad0': pipenv)"
  },
  "interpreter": {
   "hash": "762568b60ff02034ad30f76ec13eabb79a0decfbc2d9faa7bfbe9062055c30a3"
  }
 },
 "nbformat": 4,
 "nbformat_minor": 2
}