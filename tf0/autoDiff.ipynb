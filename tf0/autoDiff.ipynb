{
 "cells": [
  {
   "cell_type": "code",
   "execution_count": 1,
   "source": [
    "import tensorflow as tf\r\n",
    "\r\n",
    "import matplotlib.pyplot as plt\r\n",
    "import matplotlib as mpl\r\n",
    "\r\n",
    "mpl.rcParams['figure.figsize'] = (8,6)"
   ],
   "outputs": [],
   "metadata": {}
  },
  {
   "cell_type": "markdown",
   "source": [
    "## Gradient 기록 제어\r\n",
    "\r\n",
    "GradientTape.stop_recording(): 기록을 일시적으로 중단할 수 있다. "
   ],
   "metadata": {}
  },
  {
   "cell_type": "code",
   "execution_count": 2,
   "source": [
    "x = tf.Variable(2.0)\r\n",
    "y = tf.Variable(3.0)\r\n",
    "\r\n",
    "with tf.GradientTape() as t:\r\n",
    "  x_sq = x * x\r\n",
    "  with t.stop_recording():\r\n",
    "    y_sq = y * y\r\n",
    "  z = x_sq + y_sq\r\n",
    "\r\n",
    "grad = t.gradient(z, {'x': x, 'y': y})\r\n",
    "\r\n",
    "print('dz/dx:', grad['x'])  \r\n",
    "print('dz/dy:', grad['y'])"
   ],
   "outputs": [
    {
     "output_type": "stream",
     "name": "stdout",
     "text": [
      "dz/dx: tf.Tensor(4.0, shape=(), dtype=float32)\n",
      "dz/dy: None\n"
     ]
    }
   ],
   "metadata": {}
  },
  {
   "cell_type": "code",
   "execution_count": 3,
   "source": [
    "# 완전히 다시 시작하기 위해 reset()을 사용한다. \r\n",
    "x = tf.Variable(2.0)\r\n",
    "y = tf.Variable(3.0)\r\n",
    "reset = True\r\n",
    "\r\n",
    "with tf.GradientTape() as t:\r\n",
    "  y_sq = y * y\r\n",
    "  if reset:\r\n",
    "    t.reset()\r\n",
    "  z = x * x + y_sq\r\n",
    "\r\n",
    "grad = t.gradient(z, {'x': x, 'y': y})\r\n",
    "\r\n",
    "print('dz/dx:', grad['x'])  \r\n",
    "print('dz/dy:', grad['y'])"
   ],
   "outputs": [
    {
     "output_type": "stream",
     "name": "stdout",
     "text": [
      "dz/dx: tf.Tensor(4.0, shape=(), dtype=float32)\n",
      "dz/dy: None\n"
     ]
    }
   ],
   "metadata": {}
  },
  {
   "cell_type": "markdown",
   "source": [
    "## Gradient 중지"
   ],
   "metadata": {}
  },
  {
   "cell_type": "code",
   "execution_count": 4,
   "source": [
    "x = tf.Variable(2.0)\r\n",
    "y = tf.Variable(3.0)\r\n",
    "\r\n",
    "with tf.GradientTape() as t:\r\n",
    "  y_sq = y**2\r\n",
    "  z = x**2 + tf.stop_gradient(y_sq) # Gradient flow를 막는데 사용할 수 있다. \r\n",
    "\r\n",
    "grad = t.gradient(z, {'x': x, 'y': y})\r\n",
    "\r\n",
    "print('dz/dx:', grad['x'])  \r\n",
    "print('dz/dy:', grad['y'])"
   ],
   "outputs": [
    {
     "output_type": "stream",
     "name": "stdout",
     "text": [
      "dz/dx: tf.Tensor(4.0, shape=(), dtype=float32)\n",
      "dz/dy: None\n"
     ]
    }
   ],
   "metadata": {}
  },
  {
   "cell_type": "markdown",
   "source": [
    "## User define Gradient"
   ],
   "metadata": {}
  },
  {
   "cell_type": "code",
   "execution_count": 5,
   "source": [
    "@tf.custom_gradient\r\n",
    "def clip_gradients(y):\r\n",
    "  def backward(dy):\r\n",
    "    return tf.clip_by_norm(dy, 0.5)\r\n",
    "  return y, backward\r\n",
    "\r\n",
    "v = tf.Variable(2.0)\r\n",
    "with tf.GradientTape() as t:\r\n",
    "  output = clip_gradients(v * v)\r\n",
    "print(t.gradient(output, v))  # calls \"backward\", which clips 4 to 2"
   ],
   "outputs": [
    {
     "output_type": "stream",
     "name": "stdout",
     "text": [
      "tf.Tensor(2.0, shape=(), dtype=float32)\n"
     ]
    }
   ],
   "metadata": {}
  },
  {
   "cell_type": "markdown",
   "source": [
    "## 여러 Tape"
   ],
   "metadata": {}
  },
  {
   "cell_type": "code",
   "execution_count": 8,
   "source": [
    "x0 = tf.constant(0.0)\r\n",
    "x1 = tf.constant(0.0)\r\n",
    "\r\n",
    "with tf.GradientTape() as tape0, tf.GradientTape() as tape1:\r\n",
    "  tape0.watch(x0)\r\n",
    "  tape1.watch(x1)\r\n",
    "\r\n",
    "  y0 = tf.math.sin(x0)\r\n",
    "  y1 = tf.nn.sigmoid(x1)\r\n",
    "\r\n",
    "  y = y0 + y1\r\n",
    "\r\n",
    "  ys = tf.reduce_sum(y)"
   ],
   "outputs": [],
   "metadata": {}
  },
  {
   "cell_type": "code",
   "execution_count": 7,
   "source": [
    "tape0.gradient(ys, x0).numpy()"
   ],
   "outputs": [
    {
     "output_type": "execute_result",
     "data": {
      "text/plain": [
       "1.0"
      ]
     },
     "metadata": {},
     "execution_count": 7
    }
   ],
   "metadata": {}
  },
  {
   "cell_type": "code",
   "execution_count": 9,
   "source": [
    "tape1.gradient(ys, x1).numpy()"
   ],
   "outputs": [
    {
     "output_type": "execute_result",
     "data": {
      "text/plain": [
       "0.25"
      ]
     },
     "metadata": {},
     "execution_count": 9
    }
   ],
   "metadata": {}
  },
  {
   "cell_type": "code",
   "execution_count": null,
   "source": [],
   "outputs": [],
   "metadata": {}
  }
 ],
 "metadata": {
  "orig_nbformat": 4,
  "language_info": {
   "name": "python",
   "version": "3.9.6",
   "mimetype": "text/x-python",
   "codemirror_mode": {
    "name": "ipython",
    "version": 3
   },
   "pygments_lexer": "ipython3",
   "nbconvert_exporter": "python",
   "file_extension": ".py"
  },
  "kernelspec": {
   "name": "python3",
   "display_name": "Python 3.9.6 64-bit ('tf-K1gCNad0': pipenv)"
  },
  "interpreter": {
   "hash": "762568b60ff02034ad30f76ec13eabb79a0decfbc2d9faa7bfbe9062055c30a3"
  }
 },
 "nbformat": 4,
 "nbformat_minor": 2
}