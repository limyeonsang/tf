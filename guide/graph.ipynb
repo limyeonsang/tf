{
 "cells": [
  {
   "cell_type": "markdown",
   "source": [
    "그래프는 TF가 빠르게, 병렬로, 효율적으로 여러기기에서 실행할 때 유용하다."
   ],
   "metadata": {}
  },
  {
   "cell_type": "code",
   "execution_count": 1,
   "source": [
    "import tensorflow as tf"
   ],
   "outputs": [],
   "metadata": {}
  },
  {
   "cell_type": "code",
   "execution_count": 2,
   "source": [
    "def function_to_get_faster(x, y, b):\r\n",
    "  x = tf.matmul(x, y)\r\n",
    "  x = x + b\r\n",
    "  return x\r\n",
    "\r\n",
    "a_function_that_uses_a_graph = tf.function(function_to_get_faster) # graph create\r\n",
    "\r\n",
    "x1 = tf.constant([[1.0, 2.0]])\r\n",
    "y1 = tf.constant([[2.0], [3.0]])\r\n",
    "b1 = tf.constant(4.0)\r\n",
    "\r\n",
    "a_function_that_uses_a_graph(x1, y1, b1).numpy()"
   ],
   "outputs": [
    {
     "output_type": "execute_result",
     "data": {
      "text/plain": [
       "array([[12.]], dtype=float32)"
      ]
     },
     "metadata": {},
     "execution_count": 2
    }
   ],
   "metadata": {}
  },
  {
   "cell_type": "code",
   "execution_count": 3,
   "source": [
    "def inner_function(x, y, b):\r\n",
    "  x = tf.matmul(x, y)\r\n",
    "  x = x + b\r\n",
    "  return x\r\n",
    "\r\n",
    "# Use the decorator\r\n",
    "@tf.function\r\n",
    "def outer_function(x):\r\n",
    "  y = tf.constant([[2.0], [3.0]])\r\n",
    "  b = tf.constant(4.0)\r\n",
    "\r\n",
    "  return inner_function(x, y, b)\r\n",
    "\r\n",
    "\r\n",
    "outer_function(tf.constant([[1.0, 2.0]])).numpy()"
   ],
   "outputs": [
    {
     "output_type": "execute_result",
     "data": {
      "text/plain": [
       "array([[12.]], dtype=float32)"
      ]
     },
     "metadata": {},
     "execution_count": 3
    }
   ],
   "metadata": {}
  },
  {
   "cell_type": "code",
   "execution_count": 18,
   "source": [
    "def my_function(x):\r\n",
    "  if tf.reduce_sum(x) <= 1:\r\n",
    "    return x * x\r\n",
    "  else:\r\n",
    "    return x-1\r\n",
    "\r\n",
    "a_function = tf.function(my_function)\r\n",
    "\r\n",
    "print( a_function(tf.constant(1.0)).numpy())\r\n",
    "print( a_function(tf.constant([5.0, 5.0])).numpy())"
   ],
   "outputs": [
    {
     "output_type": "stream",
     "name": "stdout",
     "text": [
      "1.0\n",
      "[4. 4.]\n"
     ]
    }
   ],
   "metadata": {}
  },
  {
   "cell_type": "code",
   "execution_count": 21,
   "source": [
    "  tf.autograph.to_code(my_function) # 자동으로 if-then, loop, break, return 등을 변환"
   ],
   "outputs": [
    {
     "output_type": "execute_result",
     "data": {
      "text/plain": [
       "\"def tf__my_function(x):\\n    with ag__.FunctionScope('my_function', 'fscope', ag__.ConversionOptions(recursive=True, user_requested=True, optional_features=(), internal_convert_user_code=True)) as fscope:\\n        do_return = False\\n        retval_ = ag__.UndefinedReturnValue()\\n\\n        def get_state():\\n            return (do_return, retval_)\\n\\n        def set_state(vars_):\\n            nonlocal do_return, retval_\\n            (do_return, retval_) = vars_\\n\\n        def if_body():\\n            nonlocal do_return, retval_\\n            try:\\n                do_return = True\\n                retval_ = ag__.ld(x) * ag__.ld(x)\\n            except:\\n                do_return = False\\n                raise\\n\\n        def else_body():\\n            nonlocal do_return, retval_\\n            try:\\n                do_return = True\\n                retval_ = ag__.ld(x) - 1\\n            except:\\n                do_return = False\\n                raise\\n        ag__.if_stmt(ag__.converted_call(ag__.ld(tf).reduce_sum, (ag__.ld(x),), None, fscope) <= 1, if_body, else_body, get_state, set_state, ('do_return', 'retval_'), 2)\\n        return fscope.ret(retval_, do_return)\\n\""
      ]
     },
     "metadata": {},
     "execution_count": 21
    }
   ],
   "metadata": {}
  },
  {
   "cell_type": "markdown",
   "source": [
    "다형 함수\r\n",
    "\r\n",
    "- tf.Graph: 계산을 설명하는 원시 휴대용 데이터 구조이다.\r\n",
    "- Function: ConcreteFunctions에 대한 캐싱, 추적, 디스패치이다.\r\n",
    "- ConcreteFunction: Python에서 그래프를 실행할 수 있는 그래프의 eager 호환 래퍼이다. \r\n"
   ],
   "metadata": {}
  }
 ],
 "metadata": {
  "orig_nbformat": 4,
  "language_info": {
   "name": "python",
   "version": "3.9.6",
   "mimetype": "text/x-python",
   "codemirror_mode": {
    "name": "ipython",
    "version": 3
   },
   "pygments_lexer": "ipython3",
   "nbconvert_exporter": "python",
   "file_extension": ".py"
  },
  "kernelspec": {
   "name": "python3",
   "display_name": "Python 3.9.6 64-bit ('tf-K1gCNad0': pipenv)"
  },
  "interpreter": {
   "hash": "762568b60ff02034ad30f76ec13eabb79a0decfbc2d9faa7bfbe9062055c30a3"
  }
 },
 "nbformat": 4,
 "nbformat_minor": 2
}