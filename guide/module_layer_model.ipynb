{
 "cells": [
  {
   "cell_type": "code",
   "execution_count": 5,
   "source": [
    "import tensorflow as tf\r\n",
    "from datetime import datetime\r\n",
    "\r\n",
    "%load_ext tensorboard"
   ],
   "outputs": [
    {
     "output_type": "stream",
     "name": "stdout",
     "text": [
      "The tensorboard extension is already loaded. To reload it, use:\n",
      "  %reload_ext tensorboard\n"
     ]
    }
   ],
   "metadata": {}
  },
  {
   "cell_type": "code",
   "execution_count": 6,
   "source": [
    "# model, layer define\r\n",
    "\r\n",
    "class SimpleModule(tf.Module):\r\n",
    "  def __init__(self, name=None):\r\n",
    "    super().__init__(name=name)\r\n",
    "    self.a_variable = tf.Variable(5.0, name=\"train\")\r\n",
    "    self.non_trainable_variable = tf.Variable(5.0, trainable=False, name=\"do_not_train\")\r\n",
    "  def __call__(self, x):\r\n",
    "    return self.a_variable * x + self.non_trainable_variable\r\n",
    "\r\n",
    "simple_module = SimpleModule(name=\"simple\")\r\n",
    "\r\n",
    "simple_module(tf.constant(5.0))"
   ],
   "outputs": [
    {
     "output_type": "execute_result",
     "data": {
      "text/plain": [
       "<tf.Tensor: shape=(), dtype=float32, numpy=30.0>"
      ]
     },
     "metadata": {},
     "execution_count": 6
    }
   ],
   "metadata": {}
  },
  {
   "cell_type": "code",
   "execution_count": 7,
   "source": [
    "# All trainable variables\r\n",
    "print(\"trainable variables:\", simple_module.trainable_variables)\r\n",
    "# Every variable\r\n",
    "print(\"all variables:\", simple_module.variables)"
   ],
   "outputs": [
    {
     "output_type": "stream",
     "name": "stdout",
     "text": [
      "trainable variables: (<tf.Variable 'train:0' shape=() dtype=float32, numpy=5.0>,)\n",
      "all variables: (<tf.Variable 'train:0' shape=() dtype=float32, numpy=5.0>, <tf.Variable 'do_not_train:0' shape=() dtype=float32, numpy=5.0>)\n"
     ]
    }
   ],
   "metadata": {}
  },
  {
   "cell_type": "code",
   "execution_count": 8,
   "source": [
    "# 밀집 linear layer\r\n",
    "\r\n",
    "class Dense(tf.Module):\r\n",
    "  def __init__(self, in_features, out_features, name=None):\r\n",
    "    super().__init__(name=name)\r\n",
    "    self.w = tf.Variable(\r\n",
    "      tf.random.normal([in_features, out_features]), name='w')\r\n",
    "    self.b = tf.Variable(tf.zeros([out_features]), name='b')\r\n",
    "  def __call__(self, x):\r\n",
    "    y = tf.matmul(x, self.w) + self.b\r\n",
    "    return tf.nn.relu(y)"
   ],
   "outputs": [],
   "metadata": {}
  },
  {
   "cell_type": "code",
   "execution_count": 9,
   "source": [
    "# 2개의 layer instance를 만들고 적용하는 전체모델\r\n",
    "\r\n",
    "class SequentialModule(tf.Module):\r\n",
    "  def __init__(self, name=None):\r\n",
    "    super().__init__(name=name)\r\n",
    "\r\n",
    "    self.dense_1 = Dense(in_features=3, out_features=3)\r\n",
    "    self.dense_2 = Dense(in_features=3, out_features=2)\r\n",
    "\r\n",
    "  def __call__(self, x):\r\n",
    "    x = self.dense_1(x)\r\n",
    "    return self.dense_2(x)\r\n",
    "\r\n",
    "my_model = SequentialModule(name=\"the_model\")\r\n",
    "\r\n",
    "print(\"Model results:\", my_model(tf.constant([[2.0, 2.0, 2.0]])))"
   ],
   "outputs": [
    {
     "output_type": "stream",
     "name": "stdout",
     "text": [
      "Model results: tf.Tensor([[0. 0.]], shape=(1, 2), dtype=float32)\n"
     ]
    }
   ],
   "metadata": {}
  },
  {
   "cell_type": "markdown",
   "source": [
    "tf.Module 인스턴스는 tf.Variable 또는 할당된 tf.Module 인스턴스를 재귀적으로 자동 수집한다. 이를 토대로 단일 모델 인스턴스로 tf.Module 모음을 관리하고 전체 모델을 저장, 로드할 수 있다. "
   ],
   "metadata": {}
  },
  {
   "cell_type": "code",
   "execution_count": 10,
   "source": [
    "print(\"Submodules:\", my_model.submodules)"
   ],
   "outputs": [
    {
     "output_type": "stream",
     "name": "stdout",
     "text": [
      "Submodules: (<__main__.Dense object at 0x0000021A6DF7B460>, <__main__.Dense object at 0x0000021A26581A30>)\n"
     ]
    }
   ],
   "metadata": {}
  },
  {
   "cell_type": "code",
   "execution_count": 11,
   "source": [
    "for var in my_model.variables:\r\n",
    "  print(var, \"\\n\")"
   ],
   "outputs": [
    {
     "output_type": "stream",
     "name": "stdout",
     "text": [
      "<tf.Variable 'b:0' shape=(3,) dtype=float32, numpy=array([0., 0., 0.], dtype=float32)> \n",
      "\n",
      "<tf.Variable 'w:0' shape=(3, 3) dtype=float32, numpy=\n",
      "array([[ 0.16396527,  0.47628602,  0.29108617],\n",
      "       [-1.3568751 ,  1.1525935 , -2.045172  ],\n",
      "       [ 0.13822733, -0.51621234, -0.94238317]], dtype=float32)> \n",
      "\n",
      "<tf.Variable 'b:0' shape=(2,) dtype=float32, numpy=array([0., 0.], dtype=float32)> \n",
      "\n",
      "<tf.Variable 'w:0' shape=(3, 2) dtype=float32, numpy=\n",
      "array([[ 0.4721115 , -0.7477764 ],\n",
      "       [-0.14115524, -1.7136995 ],\n",
      "       [ 1.6012672 ,  1.5600077 ]], dtype=float32)> \n",
      "\n"
     ]
    }
   ],
   "metadata": {}
  },
  {
   "cell_type": "markdown",
   "source": [
    "## 변수 생성 연기\r\n",
    "\r\n",
    "특정 입력 형상으로 모듈이 처음 호출될 때까지 변수 생성을 연기하면 입력 크기를 미리 지정할 필요가 없다."
   ],
   "metadata": {}
  },
  {
   "cell_type": "code",
   "execution_count": 12,
   "source": [
    "class FlexibleDenseModule(tf.Module):\r\n",
    "  def __init__(self, out_features, name=None):\r\n",
    "    super().__init__(name=name)\r\n",
    "    self.is_built = False\r\n",
    "    self.out_features = out_features\r\n",
    "\r\n",
    "  def __call__(self, x):\r\n",
    "    if not self.is_built:\r\n",
    "      self.w = tf.Variable(\r\n",
    "        tf.random.normal([x.shape[-1], self.out_features]), name='w')\r\n",
    "      self.b = tf.Variable(tf.zeros([self.out_features]), name='b')\r\n",
    "      self.is_built = True\r\n",
    "\r\n",
    "    y = tf.matmul(x, self.w) + self.b\r\n",
    "    return tf.nn.relu(y)"
   ],
   "outputs": [],
   "metadata": {}
  },
  {
   "cell_type": "code",
   "execution_count": 13,
   "source": [
    "class MySequentialModule(tf.Module):\r\n",
    "  def __init__(self, name=None):\r\n",
    "    super().__init__(name=name)\r\n",
    "\r\n",
    "    self.dense_1 = FlexibleDenseModule(out_features=3)\r\n",
    "    self.dense_2 = FlexibleDenseModule(out_features=2)\r\n",
    "\r\n",
    "  def __call__(self, x):\r\n",
    "    x = self.dense_1(x)\r\n",
    "    return self.dense_2(x)\r\n",
    "\r\n",
    "my_model = MySequentialModule(name=\"the_model\")\r\n",
    "print(\"Model results:\", my_model(tf.constant([[2.0, 2.0, 2.0]])))"
   ],
   "outputs": [
    {
     "output_type": "stream",
     "name": "stdout",
     "text": [
      "Model results: tf.Tensor([[0.         0.37247378]], shape=(1, 2), dtype=float32)\n"
     ]
    }
   ],
   "metadata": {}
  },
  {
   "cell_type": "markdown",
   "source": [
    "## 가중치 저장"
   ],
   "metadata": {}
  },
  {
   "cell_type": "code",
   "execution_count": 14,
   "source": [
    "chkp_path = \"weight/my_checkpoint\"\r\n",
    "checkpoint = tf.train.Checkpoint(model=my_model)\r\n",
    "checkpoint.write(chkp_path)\r\n",
    "checkpoint.write(chkp_path)"
   ],
   "outputs": [
    {
     "output_type": "execute_result",
     "data": {
      "text/plain": [
       "'weight/my_checkpoint'"
      ]
     },
     "metadata": {},
     "execution_count": 14
    }
   ],
   "metadata": {}
  },
  {
   "cell_type": "code",
   "execution_count": 15,
   "source": [
    "tf.train.list_variables(chkp_path)"
   ],
   "outputs": [
    {
     "output_type": "execute_result",
     "data": {
      "text/plain": [
       "[('_CHECKPOINTABLE_OBJECT_GRAPH', []),\n",
       " ('model/dense_1/b/.ATTRIBUTES/VARIABLE_VALUE', [3]),\n",
       " ('model/dense_1/w/.ATTRIBUTES/VARIABLE_VALUE', [3, 3]),\n",
       " ('model/dense_2/b/.ATTRIBUTES/VARIABLE_VALUE', [2]),\n",
       " ('model/dense_2/w/.ATTRIBUTES/VARIABLE_VALUE', [3, 2])]"
      ]
     },
     "metadata": {},
     "execution_count": 15
    }
   ],
   "metadata": {}
  },
  {
   "cell_type": "code",
   "execution_count": 17,
   "source": [
    "# load\r\n",
    "new_model = MySequentialModule()\r\n",
    "new_checkpoint = tf.train.Checkpoint(model=new_model)\r\n",
    "new_checkpoint.restore(chkp_path)\r\n",
    "\r\n",
    "# Should be the same result as above\r\n",
    "new_model(tf.constant([[2.0, 2.0, 2.0]]))"
   ],
   "outputs": [
    {
     "output_type": "execute_result",
     "data": {
      "text/plain": [
       "<tf.Tensor: shape=(1, 2), dtype=float32, numpy=array([[0.        , 0.37247378]], dtype=float32)>"
      ]
     },
     "metadata": {},
     "execution_count": 17
    }
   ],
   "metadata": {}
  },
  {
   "cell_type": "markdown",
   "source": [
    "## 함수 저장"
   ],
   "metadata": {}
  },
  {
   "cell_type": "code",
   "execution_count": 18,
   "source": [
    "class MySequentialModule(tf.Module):\r\n",
    "  def __init__(self, name=None):\r\n",
    "    super().__init__(name=name)\r\n",
    "\r\n",
    "    self.dense_1 = Dense(in_features=3, out_features=3)\r\n",
    "    self.dense_2 = Dense(in_features=3, out_features=2)\r\n",
    "\r\n",
    "  @tf.function\r\n",
    "  def __call__(self, x):\r\n",
    "    x = self.dense_1(x)\r\n",
    "    return self.dense_2(x)\r\n",
    "\r\n",
    "my_model = MySequentialModule(name=\"the_model\")"
   ],
   "outputs": [],
   "metadata": {}
  },
  {
   "cell_type": "code",
   "execution_count": 20,
   "source": [
    "print(my_model([[2.0, 2.0, 2.0]]))\r\n",
    "print(my_model([[[2.0, 2.0, 2.0], [2.0, 2.0, 2.0]]]))"
   ],
   "outputs": [
    {
     "output_type": "stream",
     "name": "stdout",
     "text": [
      "tf.Tensor([[0.       4.301402]], shape=(1, 2), dtype=float32)\n",
      "tf.Tensor(\n",
      "[[[0.       4.301402]\n",
      "  [0.       4.301402]]], shape=(1, 2, 2), dtype=float32)\n"
     ]
    }
   ],
   "metadata": {}
  },
  {
   "cell_type": "code",
   "execution_count": 21,
   "source": [
    "stamp = datetime.now().strftime(\"%Y%m%d-%H%M%S\")\r\n",
    "logdir = \"logs/func/%s\" % stamp\r\n",
    "writer = tf.summary.create_file_writer(logdir)\r\n",
    "\r\n",
    "new_model = MySequentialModule()\r\n",
    "\r\n",
    "tf.summary.trace_on(graph=True, profiler=True)\r\n",
    "z = print(new_model(tf.constant([[2.0, 2.0, 2.0]])))\r\n",
    "with writer.as_default():\r\n",
    "  tf.summary.trace_export(\r\n",
    "      name=\"my_func_trace\",\r\n",
    "      step=0,\r\n",
    "      profiler_outdir=logdir)"
   ],
   "outputs": [
    {
     "output_type": "stream",
     "name": "stdout",
     "text": [
      "WARNING:tensorflow:From C:\\Users\\82109\\.virtualenvs\\tf-K1gCNad0\\lib\\site-packages\\tensorflow\\python\\ops\\summary_ops_v2.py:1263: start (from tensorflow.python.eager.profiler) is deprecated and will be removed after 2020-07-01.\n",
      "Instructions for updating:\n",
      "use `tf.profiler.experimental.start` instead.\n",
      "tf.Tensor([[3.178033  1.8347375]], shape=(1, 2), dtype=float32)\n",
      "WARNING:tensorflow:From C:\\Users\\82109\\.virtualenvs\\tf-K1gCNad0\\lib\\site-packages\\tensorflow\\python\\ops\\summary_ops_v2.py:1319: stop (from tensorflow.python.eager.profiler) is deprecated and will be removed after 2020-07-01.\n",
      "Instructions for updating:\n",
      "use `tf.profiler.experimental.stop` instead.\n",
      "WARNING:tensorflow:From C:\\Users\\82109\\.virtualenvs\\tf-K1gCNad0\\lib\\site-packages\\tensorflow\\python\\ops\\summary_ops_v2.py:1319: save (from tensorflow.python.eager.profiler) is deprecated and will be removed after 2020-07-01.\n",
      "Instructions for updating:\n",
      "`tf.python.eager.profiler` has deprecated, use `tf.profiler` instead.\n",
      "WARNING:tensorflow:From C:\\Users\\82109\\.virtualenvs\\tf-K1gCNad0\\lib\\site-packages\\tensorflow\\python\\eager\\profiler.py:151: maybe_create_event_file (from tensorflow.python.eager.profiler) is deprecated and will be removed after 2020-07-01.\n",
      "Instructions for updating:\n",
      "`tf.python.eager.profiler` has deprecated, use `tf.profiler` instead.\n"
     ]
    }
   ],
   "metadata": {}
  },
  {
   "cell_type": "code",
   "execution_count": 22,
   "source": [
    "%tensorboard --logdir logs/func \r\n",
    "# localhost 6006"
   ],
   "outputs": [
    {
     "output_type": "display_data",
     "data": {
      "text/plain": [
       "<IPython.core.display.HTML object>"
      ],
      "text/html": [
       "\n",
       "      <iframe id=\"tensorboard-frame-53b0cecc72a06991\" width=\"100%\" height=\"800\" frameborder=\"0\">\n",
       "      </iframe>\n",
       "      <script>\n",
       "        (function() {\n",
       "          const frame = document.getElementById(\"tensorboard-frame-53b0cecc72a06991\");\n",
       "          const url = new URL(\"/\", window.location);\n",
       "          const port = 6006;\n",
       "          if (port) {\n",
       "            url.port = port;\n",
       "          }\n",
       "          frame.src = url;\n",
       "        })();\n",
       "      </script>\n",
       "    "
      ]
     },
     "metadata": {}
    }
   ],
   "metadata": {}
  },
  {
   "cell_type": "markdown",
   "source": [
    "### SaveModel Creation\r\n",
    "\r\n",
    "완전히 훈련된 모델을 공유하는 방법으론 SaveModel이 권장된다. 함수 모음과 가중치 모음이 모두 포함된다. "
   ],
   "metadata": {}
  },
  {
   "cell_type": "code",
   "execution_count": 25,
   "source": [
    "tf.saved_model.save(my_model, \"the_saved_model\")"
   ],
   "outputs": [
    {
     "output_type": "stream",
     "name": "stdout",
     "text": [
      "INFO:tensorflow:Assets written to: the_saved_model\\assets\n"
     ]
    }
   ],
   "metadata": {}
  },
  {
   "cell_type": "code",
   "execution_count": 26,
   "source": [
    "!dir the_saved_model"
   ],
   "outputs": [
    {
     "output_type": "stream",
     "name": "stdout",
     "text": [
      " D ����̺��� ����: ���� ��ũ\n",
      " ���� �Ϸ� ��ȣ: F808-C512\n",
      "\n",
      " d:\\Programing\\tf\\guide\\the_saved_model ���͸�\n",
      "\n",
      "2021-07-25  ���� 11:34    <DIR>          .\n",
      "2021-07-25  ���� 11:34    <DIR>          ..\n",
      "2021-07-25  ���� 11:34    <DIR>          assets\n",
      "2021-07-25  ���� 11:34            14,343 saved_model.pb\n",
      "2021-07-25  ���� 11:34    <DIR>          variables\n",
      "               1�� ����              14,343 ����Ʈ\n",
      "               4�� ���͸�  308,512,628,736 ����Ʈ ����\n"
     ]
    }
   ],
   "metadata": {}
  },
  {
   "cell_type": "markdown",
   "source": [
    "saved_model.pb파일은 함수형 tf.Graph를 설명하는 프로토콜 버퍼이다. "
   ],
   "metadata": {}
  },
  {
   "cell_type": "code",
   "execution_count": 28,
   "source": [
    "# 모델을 새 객체로 load할 수 있다. \r\n",
    "new_model = tf.saved_model.load('the_saved_model')"
   ],
   "outputs": [],
   "metadata": {}
  },
  {
   "cell_type": "code",
   "execution_count": 29,
   "source": [
    "isinstance(new_model, SequentialModule)"
   ],
   "outputs": [
    {
     "output_type": "execute_result",
     "data": {
      "text/plain": [
       "False"
      ]
     },
     "metadata": {},
     "execution_count": 29
    }
   ],
   "metadata": {}
  },
  {
   "cell_type": "markdown",
   "source": [
    "저장된 모델을 로드한 new_model은 내부 tf 사용자 객체이다. SequentialModule유형이 아니다. "
   ],
   "metadata": {}
  },
  {
   "cell_type": "code",
   "execution_count": 30,
   "source": [
    "print(my_model([[2.0, 2.0, 2.0]]))\r\n",
    "print(my_model([[[2.0, 2.0, 2.0], [2.0, 2.0, 2.0]]]))"
   ],
   "outputs": [
    {
     "output_type": "stream",
     "name": "stdout",
     "text": [
      "tf.Tensor([[0.       4.301402]], shape=(1, 2), dtype=float32)\n",
      "tf.Tensor(\n",
      "[[[0.       4.301402]\n",
      "  [0.       4.301402]]], shape=(1, 2, 2), dtype=float32)\n"
     ]
    }
   ],
   "metadata": {}
  },
  {
   "cell_type": "markdown",
   "source": [
    "## keras model, layer\r\n",
    "\r\n",
    "### Keras layer"
   ],
   "metadata": {}
  },
  {
   "cell_type": "code",
   "execution_count": 31,
   "source": [
    "class MyDense(tf.keras.layers.Layer):\r\n",
    "  def __init__(self, in_features, out_features, **kwargs):\r\n",
    "    super().__init__(**kwargs)\r\n",
    "\r\n",
    "    self.w = tf.Variable(\r\n",
    "      tf.random.normal([in_features, out_features]), name='w')\r\n",
    "    self.b = tf.Variable(tf.zeros([out_features]), name='b')\r\n",
    "  def call(self, x):\r\n",
    "    y = tf.matmul(x, self.w) + self.b\r\n",
    "    return tf.nn.relu(y)\r\n",
    "\r\n",
    "simple_layer = MyDense(name=\"simple\", in_features=3, out_features=3)"
   ],
   "outputs": [],
   "metadata": {}
  },
  {
   "cell_type": "code",
   "execution_count": 32,
   "source": [
    "simple_layer([[2.0, 2.0, 2.0]])"
   ],
   "outputs": [
    {
     "output_type": "execute_result",
     "data": {
      "text/plain": [
       "<tf.Tensor: shape=(1, 3), dtype=float32, numpy=array([[6.7193317, 0.       , 2.4326499]], dtype=float32)>"
      ]
     },
     "metadata": {},
     "execution_count": 32
    }
   ],
   "metadata": {}
  },
  {
   "cell_type": "markdown",
   "source": [
    "### Build"
   ],
   "metadata": {}
  },
  {
   "cell_type": "code",
   "execution_count": 33,
   "source": [
    "class FlexibleDense(tf.keras.layers.Layer):\r\n",
    "  def __init__(self, out_features, **kwargs):\r\n",
    "    super().__init__(**kwargs)\r\n",
    "    self.out_features = out_features\r\n",
    "\r\n",
    "  def build(self, input_shape):  \r\n",
    "    self.w = tf.Variable(\r\n",
    "      tf.random.normal([input_shape[-1], self.out_features]), name='w')\r\n",
    "    self.b = tf.Variable(tf.zeros([self.out_features]), name='b')\r\n",
    "\r\n",
    "  def call(self, inputs):  \r\n",
    "    return tf.matmul(inputs, self.w) + self.b\r\n",
    "\r\n",
    "flexible_dense = FlexibleDense(out_features=3)"
   ],
   "outputs": [],
   "metadata": {}
  },
  {
   "cell_type": "code",
   "execution_count": 34,
   "source": [
    "flexible_dense.variables"
   ],
   "outputs": [
    {
     "output_type": "execute_result",
     "data": {
      "text/plain": [
       "[]"
      ]
     },
     "metadata": {},
     "execution_count": 34
    }
   ],
   "metadata": {}
  },
  {
   "cell_type": "code",
   "execution_count": 35,
   "source": [
    "print(\"Model results:\", flexible_dense(tf.constant([[2.0, 2.0, 2.0], [3.0, 3.0, 3.0]])))"
   ],
   "outputs": [
    {
     "output_type": "stream",
     "name": "stdout",
     "text": [
      "Model results: tf.Tensor(\n",
      "[[-3.211515   3.2916994  4.619859 ]\n",
      " [-4.817272   4.937549   6.9297886]], shape=(2, 3), dtype=float32)\n"
     ]
    }
   ],
   "metadata": {}
  },
  {
   "cell_type": "code",
   "execution_count": 36,
   "source": [
    "flexible_dense.variables"
   ],
   "outputs": [
    {
     "output_type": "execute_result",
     "data": {
      "text/plain": [
       "[<tf.Variable 'flexible_dense/w:0' shape=(3, 3) dtype=float32, numpy=\n",
       " array([[ 0.9111217 ,  1.902284  , -0.14298443],\n",
       "        [ 0.7788524 , -0.0596848 ,  2.0059624 ],\n",
       "        [-3.2957315 , -0.19674954,  0.4469516 ]], dtype=float32)>,\n",
       " <tf.Variable 'flexible_dense/b:0' shape=(3,) dtype=float32, numpy=array([0., 0., 0.], dtype=float32)>]"
      ]
     },
     "metadata": {},
     "execution_count": 36
    }
   ],
   "metadata": {}
  },
  {
   "cell_type": "markdown",
   "source": [
    "## Keras Model\r\n",
    "\r\n",
    "tf.keras.Model: 완전한 기능을 갖춘 모델 클래스도 제공한다. tf.keras.layers.Layer에서 상속되므로 Keras layer와 같은 방식으로 사용 가능하다. "
   ],
   "metadata": {}
  },
  {
   "cell_type": "code",
   "execution_count": 37,
   "source": [
    "class MySequentialModel(tf.keras.Model):\r\n",
    "  def __init__(self, name=None, **kwargs):\r\n",
    "    super().__init__(**kwargs)\r\n",
    "\r\n",
    "    self.dense_1 = FlexibleDense(out_features=3)\r\n",
    "    self.dense_2 = FlexibleDense(out_features=2)\r\n",
    "  def call(self, x):\r\n",
    "    x = self.dense_1(x)\r\n",
    "    return self.dense_2(x)\r\n",
    "\r\n",
    "my_sequential_model = MySequentialModel(name=\"the_model\")\r\n",
    "\r\n",
    "print(\"Model results:\", my_sequential_model(tf.constant([[2.0, 2.0, 2.0]])))"
   ],
   "outputs": [
    {
     "output_type": "stream",
     "name": "stdout",
     "text": [
      "Model results: tf.Tensor([[-2.5955515 10.373535 ]], shape=(1, 2), dtype=float32)\n"
     ]
    }
   ],
   "metadata": {}
  },
  {
   "cell_type": "code",
   "execution_count": 38,
   "source": [
    "my_sequential_model.variables"
   ],
   "outputs": [
    {
     "output_type": "execute_result",
     "data": {
      "text/plain": [
       "[<tf.Variable 'my_sequential_model/flexible_dense_1/w:0' shape=(3, 3) dtype=float32, numpy=\n",
       " array([[-1.1804935 , -0.48820588,  1.0369724 ],\n",
       "        [-0.49254116,  0.44295865, -1.1024046 ],\n",
       "        [-0.67076445, -0.98139036, -1.0987513 ]], dtype=float32)>,\n",
       " <tf.Variable 'my_sequential_model/flexible_dense_1/b:0' shape=(3,) dtype=float32, numpy=array([0., 0., 0.], dtype=float32)>,\n",
       " <tf.Variable 'my_sequential_model/flexible_dense_2/w:0' shape=(3, 2) dtype=float32, numpy=\n",
       " array([[ 1.5447494 , -2.1482692 ],\n",
       "        [-0.58927387,  1.6819847 ],\n",
       "        [-1.4755714 , -1.6135299 ]], dtype=float32)>,\n",
       " <tf.Variable 'my_sequential_model/flexible_dense_2/b:0' shape=(2,) dtype=float32, numpy=array([0., 0.], dtype=float32)>]"
      ]
     },
     "metadata": {},
     "execution_count": 38
    }
   ],
   "metadata": {}
  },
  {
   "cell_type": "code",
   "execution_count": 39,
   "source": [
    "my_sequential_model.submodules"
   ],
   "outputs": [
    {
     "output_type": "execute_result",
     "data": {
      "text/plain": [
       "(<__main__.FlexibleDense at 0x21a6e5726a0>,\n",
       " <__main__.FlexibleDense at 0x21a6cd554f0>)"
      ]
     },
     "metadata": {},
     "execution_count": 39
    }
   ],
   "metadata": {}
  },
  {
   "cell_type": "code",
   "execution_count": 40,
   "source": [
    "# 함수형 API가 있는 같은 모델\r\n",
    "\r\n",
    "inputs = tf.keras.Input(shape=[3,])\r\n",
    "\r\n",
    "x = FlexibleDense(3)(inputs)\r\n",
    "x = FlexibleDense(2)(x)\r\n",
    "\r\n",
    "my_functional_model = tf.keras.Model(inputs=inputs, outputs=x)\r\n",
    "\r\n",
    "my_functional_model.summary()"
   ],
   "outputs": [
    {
     "output_type": "stream",
     "name": "stdout",
     "text": [
      "Model: \"model\"\n",
      "_________________________________________________________________\n",
      "Layer (type)                 Output Shape              Param #   \n",
      "=================================================================\n",
      "input_1 (InputLayer)         [(None, 3)]               0         \n",
      "_________________________________________________________________\n",
      "flexible_dense_3 (FlexibleDe (None, 3)                 12        \n",
      "_________________________________________________________________\n",
      "flexible_dense_4 (FlexibleDe (None, 2)                 8         \n",
      "=================================================================\n",
      "Total params: 20\n",
      "Trainable params: 20\n",
      "Non-trainable params: 0\n",
      "_________________________________________________________________\n"
     ]
    }
   ],
   "metadata": {}
  },
  {
   "cell_type": "code",
   "execution_count": 41,
   "source": [
    "my_functional_model(tf.constant([[2.0, 2.0, 2.0]]))"
   ],
   "outputs": [
    {
     "output_type": "execute_result",
     "data": {
      "text/plain": [
       "<tf.Tensor: shape=(1, 2), dtype=float32, numpy=array([[2.9293737, 3.9202614]], dtype=float32)>"
      ]
     },
     "metadata": {},
     "execution_count": 41
    }
   ],
   "metadata": {}
  },
  {
   "cell_type": "markdown",
   "source": [
    "## Keras Model 저장"
   ],
   "metadata": {}
  },
  {
   "cell_type": "code",
   "execution_count": 42,
   "source": [
    "# save\r\n",
    "my_sequential_model.save(\"exname_of_file\")"
   ],
   "outputs": [
    {
     "output_type": "stream",
     "name": "stdout",
     "text": [
      "INFO:tensorflow:Assets written to: exname_of_file\\assets\n"
     ]
    }
   ],
   "metadata": {}
  },
  {
   "cell_type": "code",
   "execution_count": 43,
   "source": [
    "# load\r\n",
    "reconstructed_model = tf.keras.models.load_model(\"exname_of_file\")"
   ],
   "outputs": [
    {
     "output_type": "stream",
     "name": "stdout",
     "text": [
      "WARNING:tensorflow:No training configuration found in save file, so the model was *not* compiled. Compile it manually.\n"
     ]
    }
   ],
   "metadata": {}
  },
  {
   "cell_type": "code",
   "execution_count": 44,
   "source": [
    "reconstructed_model(tf.constant([[2.0, 2.0, 2.0]]))"
   ],
   "outputs": [
    {
     "output_type": "execute_result",
     "data": {
      "text/plain": [
       "<tf.Tensor: shape=(1, 2), dtype=float32, numpy=array([[-2.5955515, 10.373535 ]], dtype=float32)>"
      ]
     },
     "metadata": {},
     "execution_count": 44
    }
   ],
   "metadata": {}
  }
 ],
 "metadata": {
  "orig_nbformat": 4,
  "language_info": {
   "name": "python",
   "version": "3.9.6",
   "mimetype": "text/x-python",
   "codemirror_mode": {
    "name": "ipython",
    "version": 3
   },
   "pygments_lexer": "ipython3",
   "nbconvert_exporter": "python",
   "file_extension": ".py"
  },
  "kernelspec": {
   "name": "python3",
   "display_name": "Python 3.9.6 64-bit ('tf-K1gCNad0': pipenv)"
  },
  "interpreter": {
   "hash": "762568b60ff02034ad30f76ec13eabb79a0decfbc2d9faa7bfbe9062055c30a3"
  }
 },
 "nbformat": 4,
 "nbformat_minor": 2
}