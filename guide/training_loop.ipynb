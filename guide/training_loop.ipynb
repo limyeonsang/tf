{
 "cells": [
  {
   "cell_type": "code",
   "execution_count": 29,
   "source": [
    "import tensorflow as tf"
   ],
   "outputs": [],
   "metadata": {}
  },
  {
   "cell_type": "code",
   "execution_count": 30,
   "source": [
    "# get data\r\n",
    "\r\n",
    "# The actual line\r\n",
    "TRUE_W = 3.0\r\n",
    "TRUE_B = 2.0\r\n",
    "\r\n",
    "NUM_EXAMPLES = 1000\r\n",
    "\r\n",
    "# A vector of random x values\r\n",
    "x = tf.random.normal(shape=[NUM_EXAMPLES])\r\n",
    "\r\n",
    "# Generate some noise\r\n",
    "noise = tf.random.normal(shape=[NUM_EXAMPLES])\r\n",
    "\r\n",
    "# Calculate y\r\n",
    "y = x * TRUE_W + TRUE_B + noise"
   ],
   "outputs": [],
   "metadata": {}
  },
  {
   "cell_type": "code",
   "execution_count": 31,
   "source": [
    "import matplotlib.pyplot as plt\r\n",
    "\r\n",
    "plt.scatter(x,y,c='b')\r\n",
    "plt.show()"
   ],
   "outputs": [
    {
     "output_type": "display_data",
     "data": {
      "text/plain": [
       "<Figure size 432x288 with 1 Axes>"
      ],
      "image/png": "[encoded data removed]"
     },
     "metadata": {
      "needs_background": "light"
     }
    }
   ],
   "metadata": {}
  },
  {
   "cell_type": "code",
   "execution_count": 32,
   "source": [
    "# Define Model\r\n",
    "\r\n",
    "class MyModel(tf.Module):\r\n",
    "  def __init__(self, **kwargs):\r\n",
    "    super().__init__(**kwargs)\r\n",
    "    # Initialize the weights to `5.0` and the bias to `0.0`\r\n",
    "    self.w = tf.Variable(5.0) \r\n",
    "    self.b = tf.Variable(0.0)\r\n",
    "\r\n",
    "  def __call__(self, x):\r\n",
    "    return self.w * x + self.b\r\n",
    "\r\n",
    "model = MyModel()\r\n",
    "\r\n",
    "# List the variables tf.modules's built-in variable aggregation.\r\n",
    "print(\"Variables:\", model.variables)\r\n",
    "\r\n",
    "# Verify the model works\r\n",
    "assert model(3.0).numpy() == 15.0"
   ],
   "outputs": [
    {
     "output_type": "stream",
     "name": "stdout",
     "text": [
      "Variables: (<tf.Variable 'Variable:0' shape=() dtype=float32, numpy=0.0>, <tf.Variable 'Variable:0' shape=() dtype=float32, numpy=5.0>)\n"
     ]
    }
   ],
   "metadata": {}
  },
  {
   "cell_type": "code",
   "execution_count": 33,
   "source": [
    "# define loss function\r\n",
    "\r\n",
    "# This computes a single loss value for an entire batch\r\n",
    "def loss(target_y, predicted_y):\r\n",
    "  return tf.reduce_mean(tf.square(target_y - predicted_y))"
   ],
   "outputs": [],
   "metadata": {}
  },
  {
   "cell_type": "code",
   "execution_count": 34,
   "source": [
    "plt.scatter(x, y, c=\"b\")\r\n",
    "plt.scatter(x, model(x), c=\"r\")\r\n",
    "plt.show()\r\n",
    "\r\n",
    "print(\"Current loss: %1.6f\" % loss(y, model(x)).numpy())"
   ],
   "outputs": [
    {
     "output_type": "display_data",
     "data": {
      "text/plain": [
       "<Figure size 432x288 with 1 Axes>"
      ],
      "image/png": "[encoded data removed]"
     },
     "metadata": {
      "needs_background": "light"
     }
    },
    {
     "output_type": "stream",
     "name": "stdout",
     "text": [
      "Current loss: 8.890514\n"
     ]
    }
   ],
   "metadata": {}
  },
  {
   "cell_type": "code",
   "execution_count": 35,
   "source": [
    "# define training loop\r\n",
    "# loop {\r\n",
    "# 모델을 통해 입력 배치를 전송하여 출력 생성\r\n",
    "# 출력끼리 비교 -> 손실 계산\r\n",
    "# gradient tape를 사용해 gradient 찾기\r\n",
    "# gradient로 변수 최적화\r\n",
    "# }\r\n",
    "\r\n",
    "def train(model, x, y, learning_rate):\r\n",
    "\r\n",
    "  with tf.GradientTape() as t:\r\n",
    "    current_loss = loss(y, model(x))\r\n",
    "\r\n",
    "  dw, db = t.gradient(current_loss, [model.w, model.b])\r\n",
    "\r\n",
    "  # Subtract the gradient scaled by the learning rate\r\n",
    "  model.w.assign_sub(learning_rate * dw)\r\n",
    "  model.b.assign_sub(learning_rate * db)"
   ],
   "outputs": [],
   "metadata": {}
  },
  {
   "cell_type": "code",
   "execution_count": 36,
   "source": [
    "model = MyModel()\r\n",
    "\r\n",
    "Ws, bs = [], []\r\n",
    "epochs = range(10)\r\n",
    "\r\n",
    "# training loop\r\n",
    "def training_loop(model, x, y):\r\n",
    "\r\n",
    "  for epoch in epochs:\r\n",
    "    train(model, x, y, learning_rate=0.1)\r\n",
    "\r\n",
    "    Ws.append(model.w.numpy())\r\n",
    "    bs.append(model.b.numpy())\r\n",
    "    current_loss = loss(y, model(x))\r\n",
    "\r\n",
    "    print(\"Epoch %2d: W=%1.2f b=%1.2f, loss=%2.5f\" %\r\n",
    "          (epoch, Ws[-1], bs[-1], current_loss))"
   ],
   "outputs": [],
   "metadata": {}
  },
  {
   "cell_type": "code",
   "execution_count": 37,
   "source": [
    "print(\"Starting: W=%1.2f b=%1.2f, loss=%2.5f\" %\r\n",
    "      (model.w, model.b, loss(y, model(x))))\r\n",
    "\r\n",
    "# training\r\n",
    "training_loop(model, x, y)\r\n",
    "\r\n",
    "# Plotting\r\n",
    "plt.plot(epochs, Ws, \"r\",\r\n",
    "         epochs, bs, \"b\")\r\n",
    "\r\n",
    "plt.plot([TRUE_W] * len(epochs), \"r--\",\r\n",
    "         [TRUE_B] * len(epochs), \"b--\")\r\n",
    "\r\n",
    "plt.legend([\"W\", \"b\", \"True W\", \"True b\"])\r\n",
    "plt.show()"
   ],
   "outputs": [
    {
     "output_type": "stream",
     "name": "stdout",
     "text": [
      "Starting: W=5.00 b=0.00, loss=8.89051\n",
      "Epoch  0: W=4.61 b=0.41, loss=6.04901\n",
      "Epoch  1: W=4.30 b=0.73, loss=4.23058\n",
      "Epoch  2: W=4.05 b=0.99, loss=3.06674\n",
      "Epoch  3: W=3.84 b=1.19, loss=2.32178\n",
      "Epoch  4: W=3.68 b=1.35, loss=1.84487\n",
      "Epoch  5: W=3.55 b=1.48, loss=1.53954\n",
      "Epoch  6: W=3.45 b=1.59, loss=1.34403\n",
      "Epoch  7: W=3.36 b=1.67, loss=1.21882\n",
      "Epoch  8: W=3.29 b=1.73, loss=1.13863\n",
      "Epoch  9: W=3.24 b=1.78, loss=1.08727\n"
     ]
    },
    {
     "output_type": "display_data",
     "data": {
      "text/plain": [
       "<Figure size 432x288 with 1 Axes>"
      ],
      "image/png": "[encoded data removed]"
     },
     "metadata": {
      "needs_background": "light"
     }
    }
   ],
   "metadata": {}
  },
  {
   "cell_type": "code",
   "execution_count": 39,
   "source": [
    "plt.scatter(x, y, c='b')\r\n",
    "plt.scatter(x, model(x), c='r')\r\n",
    "plt.show()\r\n",
    "\r\n",
    "print(\"Current loss: %1.6f\" % loss(model(x), y).numpy())"
   ],
   "outputs": [
    {
     "output_type": "display_data",
     "data": {
      "text/plain": [
       "<Figure size 432x288 with 1 Axes>"
      ],
      "image/png": "[encoded data removed]"
     },
     "metadata": {
      "needs_background": "light"
     }
    },
    {
     "output_type": "stream",
     "name": "stdout",
     "text": [
      "Current loss: 1.087266\n"
     ]
    }
   ],
   "metadata": {}
  },
  {
   "cell_type": "markdown",
   "source": [
    "## Use Keras"
   ],
   "metadata": {}
  },
  {
   "cell_type": "code",
   "execution_count": 40,
   "source": [
    "class MyModelKeras(tf.keras.Model):\r\n",
    "  def __init__(self, **kwargs):\r\n",
    "    super().__init__(**kwargs)\r\n",
    "    self.w = tf.Variable(5.0)\r\n",
    "    self.b = tf.Variable(0.0)\r\n",
    "\r\n",
    "  def call(self, x):\r\n",
    "    return self.w * x + self.b\r\n",
    "\r\n",
    "keras_model = MyModelKeras()\r\n",
    "\r\n",
    "training_loop(keras_model, x, y)"
   ],
   "outputs": [
    {
     "output_type": "stream",
     "name": "stdout",
     "text": [
      "Epoch  0: W=4.61 b=0.41, loss=6.04901\n",
      "Epoch  1: W=4.30 b=0.73, loss=4.23058\n",
      "Epoch  2: W=4.05 b=0.99, loss=3.06674\n",
      "Epoch  3: W=3.84 b=1.19, loss=2.32178\n",
      "Epoch  4: W=3.68 b=1.35, loss=1.84487\n",
      "Epoch  5: W=3.55 b=1.48, loss=1.53954\n",
      "Epoch  6: W=3.45 b=1.59, loss=1.34403\n",
      "Epoch  7: W=3.36 b=1.67, loss=1.21882\n",
      "Epoch  8: W=3.29 b=1.73, loss=1.13863\n",
      "Epoch  9: W=3.24 b=1.78, loss=1.08727\n"
     ]
    }
   ],
   "metadata": {}
  },
  {
   "cell_type": "code",
   "execution_count": 41,
   "source": [
    "keras_model = MyModelKeras()\r\n",
    "\r\n",
    "keras_model.compile(\r\n",
    "  run_eagerly = False,\r\n",
    "  optimizer=tf.keras.optimizers.SGD(learning_rate=0.1),\r\n",
    "  loss=tf.keras.losses.mean_squared_error,\r\n",
    ")"
   ],
   "outputs": [],
   "metadata": {}
  },
  {
   "cell_type": "code",
   "execution_count": 42,
   "source": [
    "print(x.shape[0])\r\n",
    "keras_model.fit(x, y, epochs=10, batch_size=1000)"
   ],
   "outputs": [
    {
     "output_type": "stream",
     "name": "stdout",
     "text": [
      "1000\n",
      "Epoch 1/10\n",
      "1/1 [==============================] - 1s 611ms/step - loss: 8.8905\n",
      "Epoch 2/10\n",
      "1/1 [==============================] - 0s 7ms/step - loss: 6.0490\n",
      "Epoch 3/10\n",
      "1/1 [==============================] - 0s 7ms/step - loss: 4.2306\n",
      "Epoch 4/10\n",
      "1/1 [==============================] - 0s 8ms/step - loss: 3.0667\n",
      "Epoch 5/10\n",
      "1/1 [==============================] - 0s 7ms/step - loss: 2.3218\n",
      "Epoch 6/10\n",
      "1/1 [==============================] - 0s 7ms/step - loss: 1.8449\n",
      "Epoch 7/10\n",
      "1/1 [==============================] - 0s 9ms/step - loss: 1.5395\n",
      "Epoch 8/10\n",
      "1/1 [==============================] - 0s 10ms/step - loss: 1.3440\n",
      "Epoch 9/10\n",
      "1/1 [==============================] - 0s 12ms/step - loss: 1.2188\n",
      "Epoch 10/10\n",
      "1/1 [==============================] - 0s 7ms/step - loss: 1.1386\n"
     ]
    },
    {
     "output_type": "execute_result",
     "data": {
      "text/plain": [
       "<tensorflow.python.keras.callbacks.History at 0x1bf44037640>"
      ]
     },
     "metadata": {},
     "execution_count": 42
    }
   ],
   "metadata": {}
  },
  {
   "cell_type": "code",
   "execution_count": null,
   "source": [],
   "outputs": [],
   "metadata": {}
  }
 ],
 "metadata": {
  "orig_nbformat": 4,
  "language_info": {
   "name": "python",
   "version": "3.9.6",
   "mimetype": "text/x-python",
   "codemirror_mode": {
    "name": "ipython",
    "version": 3
   },
   "pygments_lexer": "ipython3",
   "nbconvert_exporter": "python",
   "file_extension": ".py"
  },
  "kernelspec": {
   "name": "python3",
   "display_name": "Python 3.9.6 64-bit ('tf-K1gCNad0': pipenv)"
  },
  "interpreter": {
   "hash": "762568b60ff02034ad30f76ec13eabb79a0decfbc2d9faa7bfbe9062055c30a3"
  }
 },
 "nbformat": 4,
 "nbformat_minor": 2
}