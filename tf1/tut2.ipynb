{
 "cells": [
  {
   "cell_type": "code",
   "execution_count": 1,
   "source": [
    "import tensorflow as tf\r\n",
    "\r\n",
    "from tensorflow.keras.layers import Dense, Flatten, Conv2D\r\n",
    "from tensorflow.keras import Model"
   ],
   "outputs": [],
   "metadata": {}
  },
  {
   "cell_type": "code",
   "execution_count": 2,
   "source": [
    "mnist = tf.keras.datasets.mnist\r\n",
    "\r\n",
    "(x_train, y_train), (x_test, y_test) = mnist.load_data()\r\n",
    "x_train, x_test = x_train / 255.0, x_test / 255.0\r\n",
    "\r\n",
    "# add channel resource\r\n",
    "x_train = x_train[..., tf.newaxis]\r\n",
    "x_test = x_test[..., tf.newaxis]"
   ],
   "outputs": [],
   "metadata": {}
  },
  {
   "cell_type": "code",
   "execution_count": 3,
   "source": [
    "train_ds = tf.data.Dataset.from_tensor_slices( # mix data\r\n",
    "    (x_train, y_train)).shuffle(10000).batch(32)\r\n",
    "test_ds = tf.data.Dataset.from_tensor_slices((x_test, y_test)).batch(32) # make batch"
   ],
   "outputs": [],
   "metadata": {}
  },
  {
   "cell_type": "code",
   "execution_count": 18,
   "source": [
    "class MyModel(Model):\r\n",
    "  def __init__(self):\r\n",
    "    super(MyModel, self).__init__()\r\n",
    "    self.conv1 = Conv2D(32, 3, activation='relu')\r\n",
    "    self.flatten = Flatten()\r\n",
    "    self.d1 = Dense(128, activation='relu')\r\n",
    "    self.d2 = Dense(10, activation='softmax')\r\n",
    "\r\n",
    "  def call(self, x):\r\n",
    "    x = self.conv1(x)\r\n",
    "    x = self.flatten(x)\r\n",
    "    x = self.d1(x)\r\n",
    "    return self.d2(x)\r\n",
    "\r\n",
    "model = MyModel()"
   ],
   "outputs": [],
   "metadata": {}
  },
  {
   "cell_type": "code",
   "execution_count": 19,
   "source": [
    "loss_object = tf.keras.losses.SparseCategoricalCrossentropy()\r\n",
    "optimizer = tf.keras.optimizers.Adam()"
   ],
   "outputs": [],
   "metadata": {}
  },
  {
   "cell_type": "code",
   "execution_count": 20,
   "source": [
    "train_loss = tf.keras.metrics.Mean(name='train_loss')\r\n",
    "train_accuracy = tf.keras.metrics.SparseCategoricalAccuracy(name='train_accuracy')\r\n",
    "\r\n",
    "test_loss = tf.keras.metrics.Mean(name='test_loss')\r\n",
    "test_accuracy = tf.keras.metrics.SparseCategoricalAccuracy(name='test_accuracy')"
   ],
   "outputs": [],
   "metadata": {}
  },
  {
   "cell_type": "code",
   "execution_count": 21,
   "source": [
    "@tf.function\r\n",
    "def train_step(images, labels):\r\n",
    "  with tf.GradientTape() as tape:\r\n",
    "    predictions = model(images)\r\n",
    "    loss = loss_object(labels, predictions)\r\n",
    "  gradients = tape.gradient(loss, model.trainable_variables)\r\n",
    "  optimizer.apply_gradients(zip(gradients, model.trainable_variables))\r\n",
    "\r\n",
    "  train_loss(loss)\r\n",
    "  train_accuracy(labels, predictions)"
   ],
   "outputs": [],
   "metadata": {}
  },
  {
   "cell_type": "code",
   "execution_count": 22,
   "source": [
    "@tf.function\r\n",
    "def test_step(images, labels):\r\n",
    "  predictions = model(images)\r\n",
    "  t_loss = loss_object(labels, predictions)\r\n",
    "\r\n",
    "  test_loss(t_loss)\r\n",
    "  test_accuracy(labels, predictions)"
   ],
   "outputs": [],
   "metadata": {}
  },
  {
   "cell_type": "code",
   "execution_count": 23,
   "source": [
    "EPOCHS = 5\r\n",
    "\r\n",
    "for epoch in range(EPOCHS):\r\n",
    "  for images, labels in train_ds:\r\n",
    "    train_step(images, labels)\r\n",
    "\r\n",
    "  for test_images, test_labels in test_ds:\r\n",
    "    test_step(test_images, test_labels)\r\n",
    "\r\n",
    "  template = 'epoch: {}, loss: {}, acurracy: {}, test loss: {}, test acurray: {}'\r\n",
    "  print (template.format(epoch+1,\r\n",
    "                         train_loss.result(),\r\n",
    "                         train_accuracy.result()*100,\r\n",
    "                         test_loss.result(),\r\n",
    "                         test_accuracy.result()*100))"
   ],
   "outputs": [],
   "metadata": {}
  },
  {
   "cell_type": "code",
   "execution_count": null,
   "source": [],
   "outputs": [],
   "metadata": {}
  }
 ],
 "metadata": {
  "orig_nbformat": 4,
  "language_info": {
   "name": "python",
   "version": "3.9.6",
   "mimetype": "text/x-python",
   "codemirror_mode": {
    "name": "ipython",
    "version": 3
   },
   "pygments_lexer": "ipython3",
   "nbconvert_exporter": "python",
   "file_extension": ".py"
  },
  "kernelspec": {
   "name": "python3",
   "display_name": "Python 3.9.6 64-bit ('tf-K1gCNad0': pipenv)"
  },
  "interpreter": {
   "hash": "762568b60ff02034ad30f76ec13eabb79a0decfbc2d9faa7bfbe9062055c30a3"
  }
 },
 "nbformat": 4,
 "nbformat_minor": 2
}